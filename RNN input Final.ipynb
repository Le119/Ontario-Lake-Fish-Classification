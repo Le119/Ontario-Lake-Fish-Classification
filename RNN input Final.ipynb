{
 "cells": [
  {
   "cell_type": "code",
   "execution_count": null,
   "id": "41cbbe89-3199-4146-be79-6b01ba270492",
   "metadata": {},
   "outputs": [],
   "source": [
    "import pandas as pd\n",
    "import numpy as np\n",
    "from PIL import Image, ImageOps\n",
    "import tensorflow as tf\n",
    "from tensorflow.keras import preprocessing\n",
    "import csv\n",
    "import matplotlib.pyplot as plt\n",
    "import torch\n",
    "from torch.autograd import Variable\n",
    "from torchvision import models\n",
    "from tqdm import tqdm"
   ]
  },
  {
   "cell_type": "code",
   "execution_count": null,
   "id": "acd59ae8-f469-4cc6-af55-26658b68f522",
   "metadata": {},
   "outputs": [],
   "source": [
    "import os    \n",
    "os.environ['KMP_DUPLICATE_LIB_OK'] = 'True'"
   ]
  },
  {
   "cell_type": "code",
   "execution_count": null,
   "id": "5e7d93f0-dba7-47c3-ba6c-14f7963ff0c1",
   "metadata": {},
   "outputs": [],
   "source": [
    "file_path = \"TS_Freq_array.csv\"\n",
    "\n",
    "# Initialize arrays\n",
    "y_labels = []\n",
    "x_TS = []\n",
    "\n",
    "# Read the CSV file line by line\n",
    "with open(file_path, 'r') as csv_file:\n",
    "    csv_reader = csv.reader(csv_file)\n",
    "    \n",
    "    next(csv_reader)\n",
    "    \n",
    "    # Extract the first column and construct rows as arrays\n",
    "    for row in csv_reader:\n",
    "        y_labels.append(row[0])\n",
    "        x_TS.append(row[1:])"
   ]
  },
  {
   "cell_type": "code",
   "execution_count": null,
   "id": "f771ddd3-0d37-417c-8e5b-06a58b27ce18",
   "metadata": {},
   "outputs": [],
   "source": [
    "x_TS = np.array(x_TS, dtype = float)\n",
    "x_TS.max() #upper limit of plot\n",
    "x_TS.min() #lower limit of plot"
   ]
  },
  {
   "cell_type": "code",
   "execution_count": null,
   "id": "8aab7e55-b34e-45de-a2a8-e88787c912e7",
   "metadata": {},
   "outputs": [],
   "source": [
    "# Create an array of x values\n",
    "x_values = np.arange(45,260.5,0.5)\n",
    "elements_to_remove = [90.0, 90.5, 170.5, 171.0, 171.5, 172.0, 172.5]\n",
    "x_values = x_values[~np.isin(x_values, elements_to_remove)]\n",
    "print(x_values)"
   ]
  },
  {
   "cell_type": "code",
   "execution_count": null,
   "id": "af96886d-96fc-4bda-9d7b-5e2d7139a174",
   "metadata": {},
   "outputs": [],
   "source": [
    "from io import BytesIO\n",
    "Graph_Pixel = []\n",
    "mean = [0.485, 0.456, 0.406]\n",
    "std = [0.229, 0.224, 0.225]\n",
    "for i in tqdm(range(len(x_TS))):\n",
    "    virtual_file = BytesIO()\n",
    "    TS_array = np.array(x_TS[i])\n",
    "    plt.plot(x_values, TS_array, linestyle='-')\n",
    "    plt.xlim(45, 260)\n",
    "    plt.ylim(-133, -5)\n",
    "    plt.grid(True)\n",
    "    plt.savefig(virtual_file, format = \"png\")\n",
    "    plt.clf()\n",
    "    plt.close()\n",
    "    virtual_file.seek(0)\n",
    "    image = Image.open(virtual_file)\n",
    "    gray_image = image.convert('L')\n",
    "    gray_image = gray_image.resize((488, 244), Image.LANCZOS)\n",
    "    im_as_arr = np.float32(gray_image) # Q: will the axis labels affect the values?\n",
    "    im_as_arr = np.expand_dims(im_as_arr, axis=2)\n",
    "    im_as_arr = im_as_arr.transpose(2, 1, 0)\n",
    "    for channel, _ in enumerate(im_as_arr):\n",
    "        im_as_arr[channel] /= 255\n",
    "        im_as_arr[channel] -= mean[channel]\n",
    "        im_as_arr[channel] /= std[channel]\n",
    "    Graph_Pixel.append(im_as_arr)\n",
    "\n",
    "np.savez('/1D CNN/Graph_Pixel.npz', *Graph_Pixel)"
   ]
  }
 ],
 "metadata": {
  "kernelspec": {
   "display_name": "Python 3 (ipykernel)",
   "language": "python",
   "name": "python3"
  },
  "language_info": {
   "codemirror_mode": {
    "name": "ipython",
    "version": 3
   },
   "file_extension": ".py",
   "mimetype": "text/x-python",
   "name": "python",
   "nbconvert_exporter": "python",
   "pygments_lexer": "ipython3",
   "version": "3.11.7"
  }
 },
 "nbformat": 4,
 "nbformat_minor": 5
}
