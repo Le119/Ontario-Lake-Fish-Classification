{
  "nbformat": 4,
  "nbformat_minor": 0,
  "metadata": {
    "colab": {
      "provenance": [],
      "authorship_tag": "ABX9TyMu3XyY4hsWmqLtdHjSIEYw",
      "include_colab_link": true
    },
    "kernelspec": {
      "name": "ir",
      "display_name": "R"
    },
    "language_info": {
      "name": "R"
    }
  },
  "cells": [
    {
      "cell_type": "markdown",
      "metadata": {
        "id": "view-in-github",
        "colab_type": "text"
      },
      "source": [
        "<a href=\"https://colab.research.google.com/github/Le119/Ontario-Lake-Fish-Classification/blob/Yihan/RNN_in_R.ipynb\" target=\"_parent\"><img src=\"https://colab.research.google.com/assets/colab-badge.svg\" alt=\"Open In Colab\"/></a>"
      ]
    },
    {
      "cell_type": "markdown",
      "source": [
        "Load the Processed data"
      ],
      "metadata": {
        "id": "qkLtnV1_b0FH"
      }
    },
    {
      "cell_type": "code",
      "source": [
        "load(\"/content/processed_AnalysisData_no200.Rdata\")\n",
        "ls()"
      ],
      "metadata": {
        "colab": {
          "base_uri": "https://localhost:8080/",
          "height": 34
        },
        "id": "-09xhKWKp5bu",
        "outputId": "7994dbe2-cf95-459f-a3f5-31b03a4f38bc"
      },
      "execution_count": 9,
      "outputs": [
        {
          "output_type": "display_data",
          "data": {
            "text/html": [
              "<style>\n",
              ".list-inline {list-style: none; margin:0; padding: 0}\n",
              ".list-inline>li {display: inline-block}\n",
              ".list-inline>li:not(:last-child)::after {content: \"\\00b7\"; padding: 0 .5ex}\n",
              "</style>\n",
              "<ol class=list-inline><li>'drive_mount'</li><li>'drive_mount_path'</li><li>'drive_mount_path_exists'</li><li>'file_path'</li><li>'processed_data_no200'</li></ol>\n"
            ],
            "text/markdown": "1. 'drive_mount'\n2. 'drive_mount_path'\n3. 'drive_mount_path_exists'\n4. 'file_path'\n5. 'processed_data_no200'\n\n\n",
            "text/latex": "\\begin{enumerate*}\n\\item 'drive\\_mount'\n\\item 'drive\\_mount\\_path'\n\\item 'drive\\_mount\\_path\\_exists'\n\\item 'file\\_path'\n\\item 'processed\\_data\\_no200'\n\\end{enumerate*}\n",
            "text/plain": [
              "[1] \"drive_mount\"             \"drive_mount_path\"       \n",
              "[3] \"drive_mount_path_exists\" \"file_path\"              \n",
              "[5] \"processed_data_no200\"   "
            ]
          },
          "metadata": {}
        }
      ]
    },
    {
      "cell_type": "markdown",
      "source": [
        "Clean data as Jessi did"
      ],
      "metadata": {
        "id": "8GcyHtB5cGD5"
      }
    },
    {
      "cell_type": "code",
      "source": [
        "# libraries\n",
        "library(dplyr)\n",
        "library(tidyr)"
      ],
      "metadata": {
        "id": "aXNuAnwjcXQ6",
        "colab": {
          "base_uri": "https://localhost:8080/"
        },
        "outputId": "70ed6539-5b62-4d7b-f0b8-30285908ceb3"
      },
      "execution_count": 10,
      "outputs": [
        {
          "output_type": "stream",
          "name": "stderr",
          "text": [
            "\n",
            "Attaching package: ‘dplyr’\n",
            "\n",
            "\n",
            "The following objects are masked from ‘package:stats’:\n",
            "\n",
            "    filter, lag\n",
            "\n",
            "\n",
            "The following objects are masked from ‘package:base’:\n",
            "\n",
            "    intersect, setdiff, setequal, union\n",
            "\n",
            "\n"
          ]
        }
      ]
    },
    {
      "cell_type": "markdown",
      "source": [
        "### 3 species, LT, LWT, SMB"
      ],
      "metadata": {
        "id": "LuljPPnfcrtX"
      }
    },
    {
      "cell_type": "code",
      "source": [
        "processed_data_no200%>%group_by(spCode,fishNum)%>%count()"
      ],
      "metadata": {
        "colab": {
          "base_uri": "https://localhost:8080/",
          "height": 1000
        },
        "id": "_3kXAjDkcEiV",
        "outputId": "8096eb26-683c-448a-8ee4-3a75ce760e67"
      },
      "execution_count": 11,
      "outputs": [
        {
          "output_type": "display_data",
          "data": {
            "text/html": [
              "<table class=\"dataframe\">\n",
              "<caption>A grouped_df: 103 × 3</caption>\n",
              "<thead>\n",
              "\t<tr><th scope=col>spCode</th><th scope=col>fishNum</th><th scope=col>n</th></tr>\n",
              "\t<tr><th scope=col>&lt;dbl&gt;</th><th scope=col>&lt;chr&gt;</th><th scope=col>&lt;int&gt;</th></tr>\n",
              "</thead>\n",
              "<tbody>\n",
              "\t<tr><td>81</td><td>LT001  </td><td> 133</td></tr>\n",
              "\t<tr><td>81</td><td>LT003  </td><td>1213</td></tr>\n",
              "\t<tr><td>81</td><td>LT004  </td><td> 970</td></tr>\n",
              "\t<tr><td>81</td><td>LT005  </td><td> 581</td></tr>\n",
              "\t<tr><td>81</td><td>LT006  </td><td> 306</td></tr>\n",
              "\t<tr><td>81</td><td>LT007  </td><td> 638</td></tr>\n",
              "\t<tr><td>81</td><td>LT009  </td><td> 649</td></tr>\n",
              "\t<tr><td>81</td><td>LT010  </td><td> 129</td></tr>\n",
              "\t<tr><td>81</td><td>LT011  </td><td> 508</td></tr>\n",
              "\t<tr><td>81</td><td>LT012  </td><td> 360</td></tr>\n",
              "\t<tr><td>81</td><td>LT013  </td><td> 268</td></tr>\n",
              "\t<tr><td>81</td><td>LT014  </td><td>2052</td></tr>\n",
              "\t<tr><td>81</td><td>LT015  </td><td> 205</td></tr>\n",
              "\t<tr><td>81</td><td>LT016  </td><td>1877</td></tr>\n",
              "\t<tr><td>81</td><td>LT017  </td><td> 799</td></tr>\n",
              "\t<tr><td>81</td><td>LT018  </td><td> 115</td></tr>\n",
              "\t<tr><td>81</td><td>LT019  </td><td> 451</td></tr>\n",
              "\t<tr><td>81</td><td>LT020  </td><td> 411</td></tr>\n",
              "\t<tr><td>81</td><td>LT021  </td><td> 325</td></tr>\n",
              "\t<tr><td>81</td><td>LT23001</td><td>1858</td></tr>\n",
              "\t<tr><td>81</td><td>LT23002</td><td>2258</td></tr>\n",
              "\t<tr><td>81</td><td>LT23003</td><td>1932</td></tr>\n",
              "\t<tr><td>81</td><td>LT23004</td><td>2232</td></tr>\n",
              "\t<tr><td>81</td><td>LT23005</td><td>1568</td></tr>\n",
              "\t<tr><td>81</td><td>LT23007</td><td>1145</td></tr>\n",
              "\t<tr><td>81</td><td>LT23008</td><td> 456</td></tr>\n",
              "\t<tr><td>81</td><td>LT23009</td><td>1891</td></tr>\n",
              "\t<tr><td>81</td><td>LT23010</td><td>1082</td></tr>\n",
              "\t<tr><td>81</td><td>LT23011</td><td> 543</td></tr>\n",
              "\t<tr><td>81</td><td>LT23012</td><td>1278</td></tr>\n",
              "\t<tr><td>⋮</td><td>⋮</td><td>⋮</td></tr>\n",
              "\t<tr><td>316</td><td>SMB006  </td><td>1071</td></tr>\n",
              "\t<tr><td>316</td><td>SMB007  </td><td> 278</td></tr>\n",
              "\t<tr><td>316</td><td>SMB008  </td><td> 292</td></tr>\n",
              "\t<tr><td>316</td><td>SMB009  </td><td>  14</td></tr>\n",
              "\t<tr><td>316</td><td>SMB010  </td><td>  59</td></tr>\n",
              "\t<tr><td>316</td><td>SMB011  </td><td>  25</td></tr>\n",
              "\t<tr><td>316</td><td>SMB012  </td><td>  73</td></tr>\n",
              "\t<tr><td>316</td><td>SMB013  </td><td> 192</td></tr>\n",
              "\t<tr><td>316</td><td>SMB23001</td><td> 774</td></tr>\n",
              "\t<tr><td>316</td><td>SMB23002</td><td> 724</td></tr>\n",
              "\t<tr><td>316</td><td>SMB23003</td><td>1381</td></tr>\n",
              "\t<tr><td>316</td><td>SMB23004</td><td>1094</td></tr>\n",
              "\t<tr><td>316</td><td>SMB23005</td><td> 756</td></tr>\n",
              "\t<tr><td>316</td><td>SMB23006</td><td> 655</td></tr>\n",
              "\t<tr><td>316</td><td>SMB23007</td><td>  59</td></tr>\n",
              "\t<tr><td>316</td><td>SMB23008</td><td> 178</td></tr>\n",
              "\t<tr><td>316</td><td>SMB23009</td><td> 135</td></tr>\n",
              "\t<tr><td>316</td><td>SMB23010</td><td> 540</td></tr>\n",
              "\t<tr><td>316</td><td>SMB23011</td><td>  43</td></tr>\n",
              "\t<tr><td>316</td><td>SMB23012</td><td> 629</td></tr>\n",
              "\t<tr><td>316</td><td>SMB23013</td><td> 447</td></tr>\n",
              "\t<tr><td>316</td><td>SMB23014</td><td> 853</td></tr>\n",
              "\t<tr><td>316</td><td>SMB23015</td><td> 212</td></tr>\n",
              "\t<tr><td>316</td><td>SMB23016</td><td> 152</td></tr>\n",
              "\t<tr><td>316</td><td>SMB23017</td><td>  75</td></tr>\n",
              "\t<tr><td>316</td><td>SMB23018</td><td>  40</td></tr>\n",
              "\t<tr><td>316</td><td>SMB23019</td><td>  19</td></tr>\n",
              "\t<tr><td>316</td><td>SMB23020</td><td>  43</td></tr>\n",
              "\t<tr><td>316</td><td>SMB23021</td><td>  27</td></tr>\n",
              "\t<tr><td>316</td><td>SMB23022</td><td> 146</td></tr>\n",
              "</tbody>\n",
              "</table>\n"
            ],
            "text/markdown": "\nA grouped_df: 103 × 3\n\n| spCode &lt;dbl&gt; | fishNum &lt;chr&gt; | n &lt;int&gt; |\n|---|---|---|\n| 81 | LT001   |  133 |\n| 81 | LT003   | 1213 |\n| 81 | LT004   |  970 |\n| 81 | LT005   |  581 |\n| 81 | LT006   |  306 |\n| 81 | LT007   |  638 |\n| 81 | LT009   |  649 |\n| 81 | LT010   |  129 |\n| 81 | LT011   |  508 |\n| 81 | LT012   |  360 |\n| 81 | LT013   |  268 |\n| 81 | LT014   | 2052 |\n| 81 | LT015   |  205 |\n| 81 | LT016   | 1877 |\n| 81 | LT017   |  799 |\n| 81 | LT018   |  115 |\n| 81 | LT019   |  451 |\n| 81 | LT020   |  411 |\n| 81 | LT021   |  325 |\n| 81 | LT23001 | 1858 |\n| 81 | LT23002 | 2258 |\n| 81 | LT23003 | 1932 |\n| 81 | LT23004 | 2232 |\n| 81 | LT23005 | 1568 |\n| 81 | LT23007 | 1145 |\n| 81 | LT23008 |  456 |\n| 81 | LT23009 | 1891 |\n| 81 | LT23010 | 1082 |\n| 81 | LT23011 |  543 |\n| 81 | LT23012 | 1278 |\n| ⋮ | ⋮ | ⋮ |\n| 316 | SMB006   | 1071 |\n| 316 | SMB007   |  278 |\n| 316 | SMB008   |  292 |\n| 316 | SMB009   |   14 |\n| 316 | SMB010   |   59 |\n| 316 | SMB011   |   25 |\n| 316 | SMB012   |   73 |\n| 316 | SMB013   |  192 |\n| 316 | SMB23001 |  774 |\n| 316 | SMB23002 |  724 |\n| 316 | SMB23003 | 1381 |\n| 316 | SMB23004 | 1094 |\n| 316 | SMB23005 |  756 |\n| 316 | SMB23006 |  655 |\n| 316 | SMB23007 |   59 |\n| 316 | SMB23008 |  178 |\n| 316 | SMB23009 |  135 |\n| 316 | SMB23010 |  540 |\n| 316 | SMB23011 |   43 |\n| 316 | SMB23012 |  629 |\n| 316 | SMB23013 |  447 |\n| 316 | SMB23014 |  853 |\n| 316 | SMB23015 |  212 |\n| 316 | SMB23016 |  152 |\n| 316 | SMB23017 |   75 |\n| 316 | SMB23018 |   40 |\n| 316 | SMB23019 |   19 |\n| 316 | SMB23020 |   43 |\n| 316 | SMB23021 |   27 |\n| 316 | SMB23022 |  146 |\n\n",
            "text/latex": "A grouped\\_df: 103 × 3\n\\begin{tabular}{lll}\n spCode & fishNum & n\\\\\n <dbl> & <chr> & <int>\\\\\n\\hline\n\t 81 & LT001   &  133\\\\\n\t 81 & LT003   & 1213\\\\\n\t 81 & LT004   &  970\\\\\n\t 81 & LT005   &  581\\\\\n\t 81 & LT006   &  306\\\\\n\t 81 & LT007   &  638\\\\\n\t 81 & LT009   &  649\\\\\n\t 81 & LT010   &  129\\\\\n\t 81 & LT011   &  508\\\\\n\t 81 & LT012   &  360\\\\\n\t 81 & LT013   &  268\\\\\n\t 81 & LT014   & 2052\\\\\n\t 81 & LT015   &  205\\\\\n\t 81 & LT016   & 1877\\\\\n\t 81 & LT017   &  799\\\\\n\t 81 & LT018   &  115\\\\\n\t 81 & LT019   &  451\\\\\n\t 81 & LT020   &  411\\\\\n\t 81 & LT021   &  325\\\\\n\t 81 & LT23001 & 1858\\\\\n\t 81 & LT23002 & 2258\\\\\n\t 81 & LT23003 & 1932\\\\\n\t 81 & LT23004 & 2232\\\\\n\t 81 & LT23005 & 1568\\\\\n\t 81 & LT23007 & 1145\\\\\n\t 81 & LT23008 &  456\\\\\n\t 81 & LT23009 & 1891\\\\\n\t 81 & LT23010 & 1082\\\\\n\t 81 & LT23011 &  543\\\\\n\t 81 & LT23012 & 1278\\\\\n\t ⋮ & ⋮ & ⋮\\\\\n\t 316 & SMB006   & 1071\\\\\n\t 316 & SMB007   &  278\\\\\n\t 316 & SMB008   &  292\\\\\n\t 316 & SMB009   &   14\\\\\n\t 316 & SMB010   &   59\\\\\n\t 316 & SMB011   &   25\\\\\n\t 316 & SMB012   &   73\\\\\n\t 316 & SMB013   &  192\\\\\n\t 316 & SMB23001 &  774\\\\\n\t 316 & SMB23002 &  724\\\\\n\t 316 & SMB23003 & 1381\\\\\n\t 316 & SMB23004 & 1094\\\\\n\t 316 & SMB23005 &  756\\\\\n\t 316 & SMB23006 &  655\\\\\n\t 316 & SMB23007 &   59\\\\\n\t 316 & SMB23008 &  178\\\\\n\t 316 & SMB23009 &  135\\\\\n\t 316 & SMB23010 &  540\\\\\n\t 316 & SMB23011 &   43\\\\\n\t 316 & SMB23012 &  629\\\\\n\t 316 & SMB23013 &  447\\\\\n\t 316 & SMB23014 &  853\\\\\n\t 316 & SMB23015 &  212\\\\\n\t 316 & SMB23016 &  152\\\\\n\t 316 & SMB23017 &   75\\\\\n\t 316 & SMB23018 &   40\\\\\n\t 316 & SMB23019 &   19\\\\\n\t 316 & SMB23020 &   43\\\\\n\t 316 & SMB23021 &   27\\\\\n\t 316 & SMB23022 &  146\\\\\n\\end{tabular}\n",
            "text/plain": [
              "    spCode fishNum  n   \n",
              "1   81     LT001     133\n",
              "2   81     LT003    1213\n",
              "3   81     LT004     970\n",
              "4   81     LT005     581\n",
              "5   81     LT006     306\n",
              "6   81     LT007     638\n",
              "7   81     LT009     649\n",
              "8   81     LT010     129\n",
              "9   81     LT011     508\n",
              "10  81     LT012     360\n",
              "11  81     LT013     268\n",
              "12  81     LT014    2052\n",
              "13  81     LT015     205\n",
              "14  81     LT016    1877\n",
              "15  81     LT017     799\n",
              "16  81     LT018     115\n",
              "17  81     LT019     451\n",
              "18  81     LT020     411\n",
              "19  81     LT021     325\n",
              "20  81     LT23001  1858\n",
              "21  81     LT23002  2258\n",
              "22  81     LT23003  1932\n",
              "23  81     LT23004  2232\n",
              "24  81     LT23005  1568\n",
              "25  81     LT23007  1145\n",
              "26  81     LT23008   456\n",
              "27  81     LT23009  1891\n",
              "28  81     LT23010  1082\n",
              "29  81     LT23011   543\n",
              "30  81     LT23012  1278\n",
              "⋮   ⋮      ⋮        ⋮   \n",
              "74  316    SMB006   1071\n",
              "75  316    SMB007    278\n",
              "76  316    SMB008    292\n",
              "77  316    SMB009     14\n",
              "78  316    SMB010     59\n",
              "79  316    SMB011     25\n",
              "80  316    SMB012     73\n",
              "81  316    SMB013    192\n",
              "82  316    SMB23001  774\n",
              "83  316    SMB23002  724\n",
              "84  316    SMB23003 1381\n",
              "85  316    SMB23004 1094\n",
              "86  316    SMB23005  756\n",
              "87  316    SMB23006  655\n",
              "88  316    SMB23007   59\n",
              "89  316    SMB23008  178\n",
              "90  316    SMB23009  135\n",
              "91  316    SMB23010  540\n",
              "92  316    SMB23011   43\n",
              "93  316    SMB23012  629\n",
              "94  316    SMB23013  447\n",
              "95  316    SMB23014  853\n",
              "96  316    SMB23015  212\n",
              "97  316    SMB23016  152\n",
              "98  316    SMB23017   75\n",
              "99  316    SMB23018   40\n",
              "100 316    SMB23019   19\n",
              "101 316    SMB23020   43\n",
              "102 316    SMB23021   27\n",
              "103 316    SMB23022  146"
            ]
          },
          "metadata": {}
        }
      ]
    },
    {
      "cell_type": "markdown",
      "source": [
        "## Remove individuals with missing transducers\n"
      ],
      "metadata": {
        "id": "wRrAA1nvclTo"
      }
    },
    {
      "cell_type": "code",
      "source": [
        "processed_data_no200 <-processed_data_no200 %>%filter(is.na(F100)==F)"
      ],
      "metadata": {
        "id": "UTyrkCTBcoKA"
      },
      "execution_count": 12,
      "outputs": []
    },
    {
      "cell_type": "code",
      "source": [
        "# also remove individual LWF23018 (only two pings)\n",
        "processed_data_no200 <-processed_data_no200 %>%filter(fishNum!=\"LWF23018\")"
      ],
      "metadata": {
        "id": "3PdbHJWdczpa"
      },
      "execution_count": 13,
      "outputs": []
    },
    {
      "cell_type": "code",
      "source": [
        "# remove the individual with -9x10^38 TS\n",
        "processed_data_no200 <-processed_data_no200[-36830,]"
      ],
      "metadata": {
        "id": "DRmYg7z0c2Y7"
      },
      "execution_count": 14,
      "outputs": []
    },
    {
      "cell_type": "markdown",
      "source": [
        "## LT"
      ],
      "metadata": {
        "id": "FqYROutFc7LD"
      }
    },
    {
      "cell_type": "code",
      "source": [
        "# LT019 and LT23008 were dead the whole time. Remove.\n",
        "processed_data_no200 <-processed_data_no200 %>%filter(fishNum!=\"LT019\")\n",
        "processed_data_no200 <-processed_data_no200 %>%filter(fishNum!=\"LT23008\")"
      ],
      "metadata": {
        "id": "SSaHjihOc4X_"
      },
      "execution_count": 15,
      "outputs": []
    },
    {
      "cell_type": "code",
      "source": [
        "# LT015 was at a very shallow depth and on quadrant for the majority of pinging, then seemed to move to the correct depth. Keep only those pings\n",
        "processed_data_no200 <- processed_data_no200[!(processed_data_no200$fishNum == \"LT015\" & processed_data_no200$Target_true_depth > 15.5 ) ,]"
      ],
      "metadata": {
        "id": "JBFBb_Gwc8tb"
      },
      "execution_count": 16,
      "outputs": []
    },
    {
      "cell_type": "code",
      "source": [
        "# LT018 was rough on attachment too, also has two rythmic changes in depth - going to remove the times the fish was above 15.5m as this will get rid of the time that fish was being dragged potentially and the first part of the timeseries where the fish was rough\n",
        "processed_data_no200 <- processed_data_no200[!(processed_data_no200$fishNum == \"LT018\" & processed_data_no200$Target_true_depth > 15.5 ) ,]"
      ],
      "metadata": {
        "id": "4S59e1FKc_Gt"
      },
      "execution_count": 17,
      "outputs": []
    },
    {
      "cell_type": "code",
      "source": [
        "# LT23018 was rough on attachment, barely alive, but \"suprisingly okay\" coming back - no clear indication of when it got \"okay\" in the data so remove whole fish\n",
        "processed_data_no200 <-processed_data_no200 %>%filter(fishNum!=\"LT23018\")"
      ],
      "metadata": {
        "id": "Q0spMmscdBLU"
      },
      "execution_count": 18,
      "outputs": []
    },
    {
      "cell_type": "code",
      "source": [
        "# LT013 was almost dead on release as well as dead on retrival - remove all.\n",
        "processed_data_no200 <-processed_data_no200 %>%filter(fishNum!=\"LT013\")"
      ],
      "metadata": {
        "id": "K1dyUeWidDA8"
      },
      "execution_count": 19,
      "outputs": []
    },
    {
      "cell_type": "code",
      "source": [
        "# LT23001 looks like there are barely any salvagable pings - remove all\n",
        "processed_data_no200 <-processed_data_no200%>%filter(fishNum!=\"LT23001\")"
      ],
      "metadata": {
        "id": "iIcVVkkfdFJ6"
      },
      "execution_count": 20,
      "outputs": []
    },
    {
      "cell_type": "code",
      "source": [
        "## Cleaned data:\n",
        "processed_data_no200 %>%filter(spCode==81)%>%group_by(fishNum)%>%count()\n",
        "# 21 fish, 22,792 pings"
      ],
      "metadata": {
        "colab": {
          "base_uri": "https://localhost:8080/",
          "height": 743
        },
        "id": "IRVWfDQ7dHKl",
        "outputId": "e55f6e61-9cd8-4c27-bb69-86bf15dc1032"
      },
      "execution_count": 21,
      "outputs": [
        {
          "output_type": "display_data",
          "data": {
            "text/html": [
              "<table class=\"dataframe\">\n",
              "<caption>A grouped_df: 20 × 2</caption>\n",
              "<thead>\n",
              "\t<tr><th scope=col>fishNum</th><th scope=col>n</th></tr>\n",
              "\t<tr><th scope=col>&lt;chr&gt;</th><th scope=col>&lt;int&gt;</th></tr>\n",
              "</thead>\n",
              "<tbody>\n",
              "\t<tr><td>LT009  </td><td> 649</td></tr>\n",
              "\t<tr><td>LT010  </td><td> 129</td></tr>\n",
              "\t<tr><td>LT011  </td><td> 508</td></tr>\n",
              "\t<tr><td>LT012  </td><td> 360</td></tr>\n",
              "\t<tr><td>LT014  </td><td>2052</td></tr>\n",
              "\t<tr><td>LT015  </td><td> 172</td></tr>\n",
              "\t<tr><td>LT016  </td><td>1877</td></tr>\n",
              "\t<tr><td>LT017  </td><td> 799</td></tr>\n",
              "\t<tr><td>LT018  </td><td>  25</td></tr>\n",
              "\t<tr><td>LT021  </td><td> 325</td></tr>\n",
              "\t<tr><td>LT23002</td><td>2258</td></tr>\n",
              "\t<tr><td>LT23003</td><td>1932</td></tr>\n",
              "\t<tr><td>LT23004</td><td>2232</td></tr>\n",
              "\t<tr><td>LT23005</td><td>1568</td></tr>\n",
              "\t<tr><td>LT23007</td><td>1145</td></tr>\n",
              "\t<tr><td>LT23009</td><td>1891</td></tr>\n",
              "\t<tr><td>LT23010</td><td>1082</td></tr>\n",
              "\t<tr><td>LT23011</td><td> 543</td></tr>\n",
              "\t<tr><td>LT23012</td><td>1278</td></tr>\n",
              "\t<tr><td>LT23013</td><td> 307</td></tr>\n",
              "</tbody>\n",
              "</table>\n"
            ],
            "text/markdown": "\nA grouped_df: 20 × 2\n\n| fishNum &lt;chr&gt; | n &lt;int&gt; |\n|---|---|\n| LT009   |  649 |\n| LT010   |  129 |\n| LT011   |  508 |\n| LT012   |  360 |\n| LT014   | 2052 |\n| LT015   |  172 |\n| LT016   | 1877 |\n| LT017   |  799 |\n| LT018   |   25 |\n| LT021   |  325 |\n| LT23002 | 2258 |\n| LT23003 | 1932 |\n| LT23004 | 2232 |\n| LT23005 | 1568 |\n| LT23007 | 1145 |\n| LT23009 | 1891 |\n| LT23010 | 1082 |\n| LT23011 |  543 |\n| LT23012 | 1278 |\n| LT23013 |  307 |\n\n",
            "text/latex": "A grouped\\_df: 20 × 2\n\\begin{tabular}{ll}\n fishNum & n\\\\\n <chr> & <int>\\\\\n\\hline\n\t LT009   &  649\\\\\n\t LT010   &  129\\\\\n\t LT011   &  508\\\\\n\t LT012   &  360\\\\\n\t LT014   & 2052\\\\\n\t LT015   &  172\\\\\n\t LT016   & 1877\\\\\n\t LT017   &  799\\\\\n\t LT018   &   25\\\\\n\t LT021   &  325\\\\\n\t LT23002 & 2258\\\\\n\t LT23003 & 1932\\\\\n\t LT23004 & 2232\\\\\n\t LT23005 & 1568\\\\\n\t LT23007 & 1145\\\\\n\t LT23009 & 1891\\\\\n\t LT23010 & 1082\\\\\n\t LT23011 &  543\\\\\n\t LT23012 & 1278\\\\\n\t LT23013 &  307\\\\\n\\end{tabular}\n",
            "text/plain": [
              "   fishNum n   \n",
              "1  LT009    649\n",
              "2  LT010    129\n",
              "3  LT011    508\n",
              "4  LT012    360\n",
              "5  LT014   2052\n",
              "6  LT015    172\n",
              "7  LT016   1877\n",
              "8  LT017    799\n",
              "9  LT018     25\n",
              "10 LT021    325\n",
              "11 LT23002 2258\n",
              "12 LT23003 1932\n",
              "13 LT23004 2232\n",
              "14 LT23005 1568\n",
              "15 LT23007 1145\n",
              "16 LT23009 1891\n",
              "17 LT23010 1082\n",
              "18 LT23011  543\n",
              "19 LT23012 1278\n",
              "20 LT23013  307"
            ]
          },
          "metadata": {}
        }
      ]
    },
    {
      "cell_type": "code",
      "source": [
        "## Looking at cleaned LT data\n",
        "print(processed_data_no200%>%filter(spCode==81)%>%group_by(fishNum)%>%summarise(TL=mean(totalLength)),n=21)"
      ],
      "metadata": {
        "colab": {
          "base_uri": "https://localhost:8080/"
        },
        "id": "IKcVtbAAdKvM",
        "outputId": "866a8095-9971-4b1c-bd56-92ca3d55162d"
      },
      "execution_count": 22,
      "outputs": [
        {
          "output_type": "stream",
          "name": "stdout",
          "text": [
            "\u001b[90m# A tibble: 20 × 2\u001b[39m\n",
            "   fishNum    TL\n",
            "   \u001b[3m\u001b[90m<chr>\u001b[39m\u001b[23m   \u001b[3m\u001b[90m<dbl>\u001b[39m\u001b[23m\n",
            "\u001b[90m 1\u001b[39m LT009     521\n",
            "\u001b[90m 2\u001b[39m LT010     532\n",
            "\u001b[90m 3\u001b[39m LT011     590\n",
            "\u001b[90m 4\u001b[39m LT012     555\n",
            "\u001b[90m 5\u001b[39m LT014     539\n",
            "\u001b[90m 6\u001b[39m LT015     499\n",
            "\u001b[90m 7\u001b[39m LT016     503\n",
            "\u001b[90m 8\u001b[39m LT017     472\n",
            "\u001b[90m 9\u001b[39m LT018     486\n",
            "\u001b[90m10\u001b[39m LT021     522\n",
            "\u001b[90m11\u001b[39m LT23002   538\n",
            "\u001b[90m12\u001b[39m LT23003   630\n",
            "\u001b[90m13\u001b[39m LT23004   563\n",
            "\u001b[90m14\u001b[39m LT23005   496\n",
            "\u001b[90m15\u001b[39m LT23007   470\n",
            "\u001b[90m16\u001b[39m LT23009   467\n",
            "\u001b[90m17\u001b[39m LT23010   565\n",
            "\u001b[90m18\u001b[39m LT23011   479\n",
            "\u001b[90m19\u001b[39m LT23012   566\n",
            "\u001b[90m20\u001b[39m LT23013   390\n"
          ]
        }
      ]
    },
    {
      "cell_type": "markdown",
      "source": [
        "## LWT"
      ],
      "metadata": {
        "id": "bid7RklWdNn1"
      }
    },
    {
      "cell_type": "code",
      "source": [
        "# 23004 and 23014 both pretty much dead the whole time\n",
        "processed_data_no200<-processed_data_no200%>%filter(fishNum!=\"LWF23004\")\n",
        "processed_data_no200<-processed_data_no200%>%filter(fishNum!=\"LWF23014\")"
      ],
      "metadata": {
        "id": "W5kGnC1ndO4S"
      },
      "execution_count": 23,
      "outputs": []
    },
    {
      "cell_type": "code",
      "source": [
        "# 23006 and 23008 both \"swam\" upside down for the majority of the time\n",
        "processed_data_no200<-processed_data_no200%>%filter(fishNum!=\"LWF23006\")\n",
        "processed_data_no200<-processed_data_no200%>%filter(fishNum!=\"LWF23008\")"
      ],
      "metadata": {
        "id": "IhZ5IxFOdR0j"
      },
      "execution_count": 24,
      "outputs": []
    },
    {
      "cell_type": "code",
      "source": [
        "install.packages(\"lubridate\")\n",
        "library(lubridate)"
      ],
      "metadata": {
        "colab": {
          "base_uri": "https://localhost:8080/"
        },
        "id": "zu4cchHKdfqt",
        "outputId": "58b1c751-8a63-40c9-8fa8-895effc8ea77"
      },
      "execution_count": 25,
      "outputs": [
        {
          "output_type": "stream",
          "name": "stderr",
          "text": [
            "Installing package into ‘/usr/local/lib/R/site-library’\n",
            "(as ‘lib’ is unspecified)\n",
            "\n",
            "\n",
            "Attaching package: ‘lubridate’\n",
            "\n",
            "\n",
            "The following objects are masked from ‘package:base’:\n",
            "\n",
            "    date, intersect, setdiff, union\n",
            "\n",
            "\n"
          ]
        }
      ]
    },
    {
      "cell_type": "code",
      "source": [
        "LWF011<-processed_data_no200%>%\n",
        "        filter(fishNum==\"LWF011\")%>%\n",
        "        mutate(Ping_time=strptime(Ping_time,format = \"%H:%M:%S\")-(60*60*4), hour=hour(Ping_time), minute=minute(Ping_time))%>%\n",
        "  filter(hour==19 | hour==20 & minute <= 9 | hour==20 & minute >= 13)%>%select(c(-hour,-minute))"
      ],
      "metadata": {
        "id": "Okn9fRhbdT1j"
      },
      "execution_count": 26,
      "outputs": []
    },
    {
      "cell_type": "code",
      "source": [
        "processed_data_no200<-processed_data_no200%>%filter(fishNum!=\"LWF011\")"
      ],
      "metadata": {
        "id": "ihDsS4FGdo2d"
      },
      "execution_count": 27,
      "outputs": []
    },
    {
      "cell_type": "code",
      "source": [
        "processed_data_no200<-rbind(processed_data_no200,LWF011)"
      ],
      "metadata": {
        "id": "5v_Eo8NNdp1m"
      },
      "execution_count": 28,
      "outputs": []
    },
    {
      "cell_type": "markdown",
      "source": [
        "Look at the cleaned processed_data"
      ],
      "metadata": {
        "id": "8v8xUhkGdsZD"
      }
    },
    {
      "cell_type": "code",
      "source": [
        "processed_data_no200\n",
        "column_names <- names(processed_data_no200)\n",
        "# Print the column names\n",
        "print(column_names)"
      ],
      "metadata": {
        "colab": {
          "base_uri": "https://localhost:8080/",
          "height": 1000
        },
        "id": "gfFUTwwng8lp",
        "outputId": "e6c077f4-6721-4808-a4b9-8f3835900ac5"
      },
      "execution_count": 32,
      "outputs": [
        {
          "output_type": "display_data",
          "data": {
            "text/html": [
              "<table class=\"dataframe\">\n",
              "<caption>A tibble: 45251 × 302</caption>\n",
              "<thead>\n",
              "\t<tr><th scope=col>dateTimeSample</th><th scope=col>fishNum</th><th scope=col>spCode</th><th scope=col>totalLength</th><th scope=col>forkLength</th><th scope=col>weight</th><th scope=col>girth</th><th scope=col>dorsoLatHeight</th><th scope=col>clipTag</th><th scope=col>sex</th><th scope=col>⋯</th><th scope=col>F165.5</th><th scope=col>F166</th><th scope=col>F166.5</th><th scope=col>F167</th><th scope=col>F167.5</th><th scope=col>F168</th><th scope=col>F168.5</th><th scope=col>F169</th><th scope=col>F169.5</th><th scope=col>F170</th></tr>\n",
              "\t<tr><th scope=col>&lt;dttm&gt;</th><th scope=col>&lt;chr&gt;</th><th scope=col>&lt;dbl&gt;</th><th scope=col>&lt;dbl&gt;</th><th scope=col>&lt;chr&gt;</th><th scope=col>&lt;dbl&gt;</th><th scope=col>&lt;dbl&gt;</th><th scope=col>&lt;dbl&gt;</th><th scope=col>&lt;chr&gt;</th><th scope=col>&lt;dbl&gt;</th><th scope=col>⋯</th><th scope=col>&lt;dbl&gt;</th><th scope=col>&lt;dbl&gt;</th><th scope=col>&lt;dbl&gt;</th><th scope=col>&lt;dbl&gt;</th><th scope=col>&lt;dbl&gt;</th><th scope=col>&lt;dbl&gt;</th><th scope=col>&lt;dbl&gt;</th><th scope=col>&lt;dbl&gt;</th><th scope=col>&lt;dbl&gt;</th><th scope=col>&lt;dbl&gt;</th></tr>\n",
              "</thead>\n",
              "<tbody>\n",
              "\t<tr><td>26-07-20 04:56:02</td><td>LT009</td><td>81</td><td>521</td><td>474</td><td>1132</td><td>236</td><td>49</td><td>N</td><td>2</td><td>⋯</td><td>-33.31732</td><td>-33.48272</td><td>-33.98954</td><td>-34.71069</td><td>-35.47591</td><td>-36.11846</td><td>-36.57586</td><td>-36.90389</td><td>-37.16360</td><td>-37.37286</td></tr>\n",
              "\t<tr><td>26-07-20 04:56:02</td><td>LT009</td><td>81</td><td>521</td><td>474</td><td>1132</td><td>236</td><td>49</td><td>N</td><td>2</td><td>⋯</td><td>-47.93437</td><td>-55.27752</td><td>-49.75377</td><td>-43.36868</td><td>-39.93659</td><td>-38.22149</td><td>-37.75096</td><td>-38.21294</td><td>-39.35730</td><td>-41.04031</td></tr>\n",
              "\t<tr><td>26-07-20 04:56:02</td><td>LT009</td><td>81</td><td>521</td><td>474</td><td>1132</td><td>236</td><td>49</td><td>N</td><td>2</td><td>⋯</td><td>-43.51204</td><td>-44.28880</td><td>-45.48378</td><td>-46.41323</td><td>-46.20443</td><td>-46.10777</td><td>-47.79635</td><td>-51.34248</td><td>-52.21717</td><td>-51.22738</td></tr>\n",
              "\t<tr><td>26-07-20 04:56:02</td><td>LT009</td><td>81</td><td>521</td><td>474</td><td>1132</td><td>236</td><td>49</td><td>N</td><td>2</td><td>⋯</td><td>-43.60107</td><td>-42.57205</td><td>-42.36388</td><td>-42.79280</td><td>-43.24235</td><td>-43.47555</td><td>-44.25610</td><td>-46.26738</td><td>-49.37243</td><td>-51.95134</td></tr>\n",
              "\t<tr><td>26-07-20 04:56:02</td><td>LT009</td><td>81</td><td>521</td><td>474</td><td>1132</td><td>236</td><td>49</td><td>N</td><td>2</td><td>⋯</td><td>-37.35113</td><td>-36.52720</td><td>-36.12024</td><td>-36.28219</td><td>-36.87755</td><td>-37.58748</td><td>-38.33421</td><td>-38.65026</td><td>-37.10683</td><td>-34.48625</td></tr>\n",
              "\t<tr><td>26-07-20 04:56:02</td><td>LT009</td><td>81</td><td>521</td><td>474</td><td>1132</td><td>236</td><td>49</td><td>N</td><td>2</td><td>⋯</td><td>-33.32777</td><td>-32.72380</td><td>-32.66965</td><td>-32.60390</td><td>-32.43916</td><td>-32.96681</td><td>-35.13315</td><td>-39.78136</td><td>-46.17297</td><td>-44.42698</td></tr>\n",
              "\t<tr><td>26-07-20 04:56:02</td><td>LT009</td><td>81</td><td>521</td><td>474</td><td>1132</td><td>236</td><td>49</td><td>N</td><td>2</td><td>⋯</td><td>-43.06297</td><td>-44.89117</td><td>-46.83981</td><td>-48.26073</td><td>-48.73601</td><td>-46.82269</td><td>-44.71505</td><td>-44.26200</td><td>-45.54696</td><td>-48.31731</td></tr>\n",
              "\t<tr><td>26-07-20 04:56:02</td><td>LT009</td><td>81</td><td>521</td><td>474</td><td>1132</td><td>236</td><td>49</td><td>N</td><td>2</td><td>⋯</td><td>-42.60981</td><td>-44.27151</td><td>-48.55686</td><td>-57.49871</td><td>-48.56347</td><td>-43.80375</td><td>-41.95260</td><td>-41.66501</td><td>-42.73266</td><td>-45.96766</td></tr>\n",
              "\t<tr><td>26-07-20 04:56:02</td><td>LT009</td><td>81</td><td>521</td><td>474</td><td>1132</td><td>236</td><td>49</td><td>N</td><td>2</td><td>⋯</td><td>-42.17858</td><td>-46.13763</td><td>-49.22816</td><td>-42.07251</td><td>-35.43637</td><td>-31.48083</td><td>-29.72450</td><td>-29.86794</td><td>-31.79124</td><td>-35.66754</td></tr>\n",
              "\t<tr><td>26-07-20 04:56:02</td><td>LT009</td><td>81</td><td>521</td><td>474</td><td>1132</td><td>236</td><td>49</td><td>N</td><td>2</td><td>⋯</td><td>-33.40930</td><td>-35.03419</td><td>-39.22272</td><td>-50.58940</td><td>-48.95248</td><td>-44.55936</td><td>-43.09744</td><td>-38.97563</td><td>-36.36449</td><td>-36.25474</td></tr>\n",
              "\t<tr><td>26-07-20 04:56:02</td><td>LT009</td><td>81</td><td>521</td><td>474</td><td>1132</td><td>236</td><td>49</td><td>N</td><td>2</td><td>⋯</td><td>-37.48830</td><td>-37.38090</td><td>-38.33965</td><td>-38.93740</td><td>-38.37023</td><td>-38.57920</td><td>-41.29389</td><td>-48.62900</td><td>-59.26864</td><td>-48.45504</td></tr>\n",
              "\t<tr><td>26-07-20 04:56:02</td><td>LT009</td><td>81</td><td>521</td><td>474</td><td>1132</td><td>236</td><td>49</td><td>N</td><td>2</td><td>⋯</td><td>-40.82712</td><td>-39.16390</td><td>-39.34050</td><td>-42.06967</td><td>-46.01858</td><td>-42.72443</td><td>-40.43491</td><td>-41.26567</td><td>-44.69268</td><td>-49.62661</td></tr>\n",
              "\t<tr><td>26-07-20 04:56:02</td><td>LT009</td><td>81</td><td>521</td><td>474</td><td>1132</td><td>236</td><td>49</td><td>N</td><td>2</td><td>⋯</td><td>-45.94084</td><td>-48.35860</td><td>-42.50654</td><td>-40.08557</td><td>-40.65750</td><td>-44.39982</td><td>-52.63827</td><td>-51.22607</td><td>-45.69048</td><td>-42.75466</td></tr>\n",
              "\t<tr><td>26-07-20 04:56:02</td><td>LT009</td><td>81</td><td>521</td><td>474</td><td>1132</td><td>236</td><td>49</td><td>N</td><td>2</td><td>⋯</td><td>-34.73834</td><td>-34.80306</td><td>-34.92956</td><td>-35.26899</td><td>-35.99378</td><td>-37.25409</td><td>-39.10377</td><td>-41.40001</td><td>-43.61299</td><td>-44.75685</td></tr>\n",
              "\t<tr><td>26-07-20 04:56:02</td><td>LT009</td><td>81</td><td>521</td><td>474</td><td>1132</td><td>236</td><td>49</td><td>N</td><td>2</td><td>⋯</td><td>-45.02204</td><td>-44.22327</td><td>-43.53907</td><td>-43.71742</td><td>-44.82518</td><td>-45.79078</td><td>-45.14582</td><td>-43.86649</td><td>-43.06865</td><td>-42.96524</td></tr>\n",
              "\t<tr><td>26-07-20 04:56:02</td><td>LT009</td><td>81</td><td>521</td><td>474</td><td>1132</td><td>236</td><td>49</td><td>N</td><td>2</td><td>⋯</td><td>-47.84968</td><td>-47.64415</td><td>-45.39721</td><td>-42.91607</td><td>-41.18368</td><td>-40.45297</td><td>-40.78824</td><td>-42.15647</td><td>-43.89960</td><td>-43.50131</td></tr>\n",
              "\t<tr><td>26-07-20 04:56:02</td><td>LT009</td><td>81</td><td>521</td><td>474</td><td>1132</td><td>236</td><td>49</td><td>N</td><td>2</td><td>⋯</td><td>-43.36863</td><td>-49.02757</td><td>-51.00130</td><td>-43.50068</td><td>-40.13222</td><td>-39.23533</td><td>-40.16683</td><td>-42.60740</td><td>-46.35735</td><td>-50.48304</td></tr>\n",
              "\t<tr><td>26-07-20 04:56:02</td><td>LT009</td><td>81</td><td>521</td><td>474</td><td>1132</td><td>236</td><td>49</td><td>N</td><td>2</td><td>⋯</td><td>-43.28206</td><td>-40.19327</td><td>-38.75463</td><td>-39.16434</td><td>-41.86226</td><td>-48.03016</td><td>-55.83986</td><td>-47.84620</td><td>-42.62430</td><td>-39.39771</td></tr>\n",
              "\t<tr><td>26-07-20 04:56:02</td><td>LT009</td><td>81</td><td>521</td><td>474</td><td>1132</td><td>236</td><td>49</td><td>N</td><td>2</td><td>⋯</td><td>-41.49833</td><td>-38.93479</td><td>-36.71503</td><td>-35.51522</td><td>-35.52174</td><td>-36.79964</td><td>-39.13077</td><td>-41.47527</td><td>-41.93837</td><td>-40.77283</td></tr>\n",
              "\t<tr><td>26-07-20 04:56:02</td><td>LT009</td><td>81</td><td>521</td><td>474</td><td>1132</td><td>236</td><td>49</td><td>N</td><td>2</td><td>⋯</td><td>-40.71700</td><td>-41.97521</td><td>-43.99316</td><td>-46.80281</td><td>-49.64634</td><td>-50.66090</td><td>-49.58050</td><td>-47.74796</td><td>-46.23847</td><td>-45.59554</td></tr>\n",
              "\t<tr><td>26-07-20 04:56:02</td><td>LT009</td><td>81</td><td>521</td><td>474</td><td>1132</td><td>236</td><td>49</td><td>N</td><td>2</td><td>⋯</td><td>-40.77980</td><td>-42.57289</td><td>-45.94466</td><td>-51.71959</td><td>-61.85248</td><td>-66.50160</td><td>-54.65889</td><td>-50.25427</td><td>-49.39068</td><td>-51.98858</td></tr>\n",
              "\t<tr><td>26-07-20 04:56:02</td><td>LT009</td><td>81</td><td>521</td><td>474</td><td>1132</td><td>236</td><td>49</td><td>N</td><td>2</td><td>⋯</td><td>-42.99342</td><td>-45.53120</td><td>-48.72001</td><td>-51.30032</td><td>-52.07093</td><td>-51.34704</td><td>-52.08243</td><td>-54.46983</td><td>-49.30424</td><td>-44.80899</td></tr>\n",
              "\t<tr><td>26-07-20 04:56:02</td><td>LT009</td><td>81</td><td>521</td><td>474</td><td>1132</td><td>236</td><td>49</td><td>N</td><td>2</td><td>⋯</td><td>-61.08510</td><td>-59.41102</td><td>-50.89662</td><td>-46.51935</td><td>-43.78225</td><td>-42.24522</td><td>-41.92164</td><td>-42.64552</td><td>-43.62727</td><td>-43.91402</td></tr>\n",
              "\t<tr><td>26-07-20 04:56:02</td><td>LT009</td><td>81</td><td>521</td><td>474</td><td>1132</td><td>236</td><td>49</td><td>N</td><td>2</td><td>⋯</td><td>-50.56471</td><td>-50.04467</td><td>-45.18904</td><td>-40.67069</td><td>-38.02260</td><td>-37.25286</td><td>-38.36555</td><td>-41.52676</td><td>-47.50300</td><td>-52.50546</td></tr>\n",
              "\t<tr><td>26-07-20 04:56:02</td><td>LT009</td><td>81</td><td>521</td><td>474</td><td>1132</td><td>236</td><td>49</td><td>N</td><td>2</td><td>⋯</td><td>-43.80438</td><td>-45.63071</td><td>-50.76195</td><td>-58.86461</td><td>-53.07755</td><td>-52.65618</td><td>-56.87987</td><td>-50.52016</td><td>-45.43599</td><td>-43.30978</td></tr>\n",
              "\t<tr><td>26-07-20 04:56:02</td><td>LT009</td><td>81</td><td>521</td><td>474</td><td>1132</td><td>236</td><td>49</td><td>N</td><td>2</td><td>⋯</td><td>-41.20601</td><td>-43.93129</td><td>-45.71867</td><td>-46.26055</td><td>-47.50062</td><td>-49.61436</td><td>-49.43361</td><td>-45.53431</td><td>-41.25677</td><td>-38.06184</td></tr>\n",
              "\t<tr><td>26-07-20 04:56:02</td><td>LT009</td><td>81</td><td>521</td><td>474</td><td>1132</td><td>236</td><td>49</td><td>N</td><td>2</td><td>⋯</td><td>-35.58769</td><td>-38.20660</td><td>-40.99305</td><td>-41.17246</td><td>-39.22179</td><td>-37.83049</td><td>-37.61936</td><td>-38.63516</td><td>-41.03061</td><td>-45.36363</td></tr>\n",
              "\t<tr><td>26-07-20 04:56:02</td><td>LT009</td><td>81</td><td>521</td><td>474</td><td>1132</td><td>236</td><td>49</td><td>N</td><td>2</td><td>⋯</td><td>-51.04813</td><td>-54.10972</td><td>-57.72342</td><td>-55.56210</td><td>-61.60413</td><td>-53.25058</td><td>-45.30345</td><td>-43.03918</td><td>-44.66583</td><td>-50.07589</td></tr>\n",
              "\t<tr><td>26-07-20 04:56:02</td><td>LT009</td><td>81</td><td>521</td><td>474</td><td>1132</td><td>236</td><td>49</td><td>N</td><td>2</td><td>⋯</td><td>-32.38888</td><td>-32.52763</td><td>-33.69275</td><td>-35.89065</td><td>-38.62021</td><td>-40.48688</td><td>-40.15998</td><td>-38.15883</td><td>-36.41668</td><td>-35.78606</td></tr>\n",
              "\t<tr><td>26-07-20 04:56:02</td><td>LT009</td><td>81</td><td>521</td><td>474</td><td>1132</td><td>236</td><td>49</td><td>N</td><td>2</td><td>⋯</td><td>-33.47635</td><td>-34.19573</td><td>-35.92943</td><td>-39.06683</td><td>-43.71749</td><td>-46.77645</td><td>-45.83566</td><td>-44.38123</td><td>-42.83615</td><td>-41.94712</td></tr>\n",
              "\t<tr><td>⋮</td><td>⋮</td><td>⋮</td><td>⋮</td><td>⋮</td><td>⋮</td><td>⋮</td><td>⋮</td><td>⋮</td><td>⋮</td><td>⋱</td><td>⋮</td><td>⋮</td><td>⋮</td><td>⋮</td><td>⋮</td><td>⋮</td><td>⋮</td><td>⋮</td><td>⋮</td><td>⋮</td></tr>\n",
              "\t<tr><td>27-07-20 04:56:02</td><td>LWF011</td><td>91</td><td>401</td><td>368</td><td>606</td><td>205</td><td>36</td><td>N</td><td>1</td><td>⋯</td><td>-48.70898</td><td>-48.18153</td><td>-49.28216</td><td>-51.92945</td><td>-54.65982</td><td>-55.04103</td><td>-56.17844</td><td>-58.32728</td><td>-54.87349</td><td>-51.77755</td></tr>\n",
              "\t<tr><td>27-07-20 04:56:02</td><td>LWF011</td><td>91</td><td>401</td><td>368</td><td>606</td><td>205</td><td>36</td><td>N</td><td>1</td><td>⋯</td><td>-41.33352</td><td>-41.28966</td><td>-41.53101</td><td>-42.38319</td><td>-44.22744</td><td>-47.15449</td><td>-50.15023</td><td>-52.64604</td><td>-58.77422</td><td>-58.57411</td></tr>\n",
              "\t<tr><td>27-07-20 04:56:02</td><td>LWF011</td><td>91</td><td>401</td><td>368</td><td>606</td><td>205</td><td>36</td><td>N</td><td>1</td><td>⋯</td><td>-45.01344</td><td>-46.07166</td><td>-47.55810</td><td>-48.71487</td><td>-48.78842</td><td>-47.97762</td><td>-47.41073</td><td>-47.94481</td><td>-49.35604</td><td>-48.97886</td></tr>\n",
              "\t<tr><td>27-07-20 04:56:02</td><td>LWF011</td><td>91</td><td>401</td><td>368</td><td>606</td><td>205</td><td>36</td><td>N</td><td>1</td><td>⋯</td><td>-46.32720</td><td>-45.16411</td><td>-45.02556</td><td>-45.39152</td><td>-45.32711</td><td>-44.79413</td><td>-44.94193</td><td>-46.57295</td><td>-50.18454</td><td>-56.91660</td></tr>\n",
              "\t<tr><td>27-07-20 04:56:02</td><td>LWF011</td><td>91</td><td>401</td><td>368</td><td>606</td><td>205</td><td>36</td><td>N</td><td>1</td><td>⋯</td><td>-42.99607</td><td>-43.14076</td><td>-44.36826</td><td>-47.11334</td><td>-50.65972</td><td>-49.99760</td><td>-48.05072</td><td>-48.08948</td><td>-49.77746</td><td>-51.27790</td></tr>\n",
              "\t<tr><td>27-07-20 04:56:02</td><td>LWF011</td><td>91</td><td>401</td><td>368</td><td>606</td><td>205</td><td>36</td><td>N</td><td>1</td><td>⋯</td><td>-61.30158</td><td>-61.31779</td><td>-61.81294</td><td>-62.05056</td><td>-53.76549</td><td>-49.31369</td><td>-47.98368</td><td>-49.03649</td><td>-51.10230</td><td>-50.26113</td></tr>\n",
              "\t<tr><td>27-07-20 04:56:02</td><td>LWF011</td><td>91</td><td>401</td><td>368</td><td>606</td><td>205</td><td>36</td><td>N</td><td>1</td><td>⋯</td><td>-46.34153</td><td>-51.21696</td><td>-54.21422</td><td>-56.26321</td><td>-66.61982</td><td>-51.73407</td><td>-46.53827</td><td>-45.34927</td><td>-47.12738</td><td>-52.36392</td></tr>\n",
              "\t<tr><td>27-07-20 04:56:02</td><td>LWF011</td><td>91</td><td>401</td><td>368</td><td>606</td><td>205</td><td>36</td><td>N</td><td>1</td><td>⋯</td><td>-58.39646</td><td>-56.46928</td><td>-52.36735</td><td>-49.64062</td><td>-47.83692</td><td>-46.21741</td><td>-44.83451</td><td>-44.31746</td><td>-45.07098</td><td>-47.30714</td></tr>\n",
              "\t<tr><td>27-07-20 04:56:02</td><td>LWF011</td><td>91</td><td>401</td><td>368</td><td>606</td><td>205</td><td>36</td><td>N</td><td>1</td><td>⋯</td><td>-46.04097</td><td>-45.89138</td><td>-45.37635</td><td>-45.30562</td><td>-46.60878</td><td>-50.18586</td><td>-55.06238</td><td>-54.23033</td><td>-53.72378</td><td>-53.85827</td></tr>\n",
              "\t<tr><td>27-07-20 04:56:02</td><td>LWF011</td><td>91</td><td>401</td><td>368</td><td>606</td><td>205</td><td>36</td><td>N</td><td>1</td><td>⋯</td><td>-47.53708</td><td>-50.56851</td><td>-54.44755</td><td>-59.14812</td><td>-62.71800</td><td>-61.60138</td><td>-59.68939</td><td>-58.96216</td><td>-59.41109</td><td>-60.86140</td></tr>\n",
              "\t<tr><td>27-07-20 04:56:02</td><td>LWF011</td><td>91</td><td>401</td><td>368</td><td>606</td><td>205</td><td>36</td><td>N</td><td>1</td><td>⋯</td><td>-36.13680</td><td>-35.25386</td><td>-34.95908</td><td>-35.22185</td><td>-35.92265</td><td>-36.80611</td><td>-37.57560</td><td>-38.18476</td><td>-38.91981</td><td>-40.20007</td></tr>\n",
              "\t<tr><td>27-07-20 04:56:02</td><td>LWF011</td><td>91</td><td>401</td><td>368</td><td>606</td><td>205</td><td>36</td><td>N</td><td>1</td><td>⋯</td><td>-46.82642</td><td>-46.26022</td><td>-45.71639</td><td>-45.97129</td><td>-47.79646</td><td>-52.26271</td><td>-62.52636</td><td>-70.85537</td><td>-66.18828</td><td>-60.47470</td></tr>\n",
              "\t<tr><td>27-07-20 04:56:02</td><td>LWF011</td><td>91</td><td>401</td><td>368</td><td>606</td><td>205</td><td>36</td><td>N</td><td>1</td><td>⋯</td><td>-51.78438</td><td>-50.91399</td><td>-50.42424</td><td>-49.86862</td><td>-48.57734</td><td>-46.41837</td><td>-44.05573</td><td>-42.26963</td><td>-41.41941</td><td>-41.55896</td></tr>\n",
              "\t<tr><td>27-07-20 04:56:02</td><td>LWF011</td><td>91</td><td>401</td><td>368</td><td>606</td><td>205</td><td>36</td><td>N</td><td>1</td><td>⋯</td><td>-41.65739</td><td>-41.34903</td><td>-40.99461</td><td>-40.71869</td><td>-40.62284</td><td>-40.80650</td><td>-41.39084</td><td>-42.50835</td><td>-44.29501</td><td>-46.92706</td></tr>\n",
              "\t<tr><td>27-07-20 04:56:02</td><td>LWF011</td><td>91</td><td>401</td><td>368</td><td>606</td><td>205</td><td>36</td><td>N</td><td>1</td><td>⋯</td><td>-45.89528</td><td>-45.03942</td><td>-44.21180</td><td>-43.22471</td><td>-42.08122</td><td>-41.01720</td><td>-40.29153</td><td>-40.01422</td><td>-40.15992</td><td>-40.64670</td></tr>\n",
              "\t<tr><td>27-07-20 04:56:02</td><td>LWF011</td><td>91</td><td>401</td><td>368</td><td>606</td><td>205</td><td>36</td><td>N</td><td>1</td><td>⋯</td><td>-37.07319</td><td>-37.70726</td><td>-38.52117</td><td>-39.59074</td><td>-41.00043</td><td>-42.77386</td><td>-44.82456</td><td>-47.03067</td><td>-49.41549</td><td>-52.18875</td></tr>\n",
              "\t<tr><td>27-07-20 04:56:02</td><td>LWF011</td><td>91</td><td>401</td><td>368</td><td>606</td><td>205</td><td>36</td><td>N</td><td>1</td><td>⋯</td><td>-44.87892</td><td>-43.61847</td><td>-42.48158</td><td>-42.00684</td><td>-42.66844</td><td>-45.04006</td><td>-50.27210</td><td>-67.14444</td><td>-54.37942</td><td>-47.99813</td></tr>\n",
              "\t<tr><td>27-07-20 04:56:02</td><td>LWF011</td><td>91</td><td>401</td><td>368</td><td>606</td><td>205</td><td>36</td><td>N</td><td>1</td><td>⋯</td><td>-45.29234</td><td>-48.47796</td><td>-51.83950</td><td>-52.56172</td><td>-50.01495</td><td>-47.62679</td><td>-46.61821</td><td>-46.78790</td><td>-47.55459</td><td>-48.84030</td></tr>\n",
              "\t<tr><td>27-07-20 04:56:02</td><td>LWF011</td><td>91</td><td>401</td><td>368</td><td>606</td><td>205</td><td>36</td><td>N</td><td>1</td><td>⋯</td><td>-50.15212</td><td>-50.10622</td><td>-49.88214</td><td>-49.64264</td><td>-49.48400</td><td>-49.39146</td><td>-49.37342</td><td>-49.61325</td><td>-50.40142</td><td>-52.03791</td></tr>\n",
              "\t<tr><td>27-07-20 04:56:02</td><td>LWF011</td><td>91</td><td>401</td><td>368</td><td>606</td><td>205</td><td>36</td><td>N</td><td>1</td><td>⋯</td><td>-41.44012</td><td>-42.78506</td><td>-44.21013</td><td>-45.59320</td><td>-46.87438</td><td>-48.17263</td><td>-49.73279</td><td>-51.56531</td><td>-53.03444</td><td>-53.27795</td></tr>\n",
              "\t<tr><td>27-07-20 04:56:02</td><td>LWF011</td><td>91</td><td>401</td><td>368</td><td>606</td><td>205</td><td>36</td><td>N</td><td>1</td><td>⋯</td><td>-41.28393</td><td>-41.40044</td><td>-41.59105</td><td>-41.74543</td><td>-41.81408</td><td>-41.67671</td><td>-41.41443</td><td>-41.41605</td><td>-41.97828</td><td>-43.13047</td></tr>\n",
              "\t<tr><td>27-07-20 04:56:02</td><td>LWF011</td><td>91</td><td>401</td><td>368</td><td>606</td><td>205</td><td>36</td><td>N</td><td>1</td><td>⋯</td><td>-38.96040</td><td>-38.52649</td><td>-38.52677</td><td>-38.87696</td><td>-39.43342</td><td>-40.02942</td><td>-40.66632</td><td>-41.49672</td><td>-42.55469</td><td>-43.65075</td></tr>\n",
              "\t<tr><td>27-07-20 04:56:02</td><td>LWF011</td><td>91</td><td>401</td><td>368</td><td>606</td><td>205</td><td>36</td><td>N</td><td>1</td><td>⋯</td><td>-41.84157</td><td>-42.91660</td><td>-44.88909</td><td>-49.27068</td><td>-59.53688</td><td>-54.99502</td><td>-52.37829</td><td>-55.95875</td><td>-58.59798</td><td>-50.35633</td></tr>\n",
              "\t<tr><td>27-07-20 04:56:02</td><td>LWF011</td><td>91</td><td>401</td><td>368</td><td>606</td><td>205</td><td>36</td><td>N</td><td>1</td><td>⋯</td><td>-44.93021</td><td>-47.11844</td><td>-48.44419</td><td>-49.34060</td><td>-51.27193</td><td>-56.97424</td><td>-59.16565</td><td>-51.65741</td><td>-49.38901</td><td>-50.26279</td></tr>\n",
              "\t<tr><td>27-07-20 04:56:02</td><td>LWF011</td><td>91</td><td>401</td><td>368</td><td>606</td><td>205</td><td>36</td><td>N</td><td>1</td><td>⋯</td><td>-53.29325</td><td>-64.14916</td><td>-59.35917</td><td>-52.00746</td><td>-48.50582</td><td>-46.58454</td><td>-45.52232</td><td>-44.86725</td><td>-44.34779</td><td>-43.90774</td></tr>\n",
              "\t<tr><td>27-07-20 04:56:02</td><td>LWF011</td><td>91</td><td>401</td><td>368</td><td>606</td><td>205</td><td>36</td><td>N</td><td>1</td><td>⋯</td><td>-43.92692</td><td>-44.70184</td><td>-45.77076</td><td>-48.42729</td><td>-55.51452</td><td>-60.54639</td><td>-52.58581</td><td>-52.26430</td><td>-55.79908</td><td>-52.76772</td></tr>\n",
              "\t<tr><td>27-07-20 04:56:02</td><td>LWF011</td><td>91</td><td>401</td><td>368</td><td>606</td><td>205</td><td>36</td><td>N</td><td>1</td><td>⋯</td><td>-44.28593</td><td>-46.69162</td><td>-50.69510</td><td>-55.45536</td><td>-68.15515</td><td>-54.30320</td><td>-46.71167</td><td>-43.84403</td><td>-43.76686</td><td>-46.32839</td></tr>\n",
              "\t<tr><td>27-07-20 04:56:02</td><td>LWF011</td><td>91</td><td>401</td><td>368</td><td>606</td><td>205</td><td>36</td><td>N</td><td>1</td><td>⋯</td><td>-52.66342</td><td>-50.79109</td><td>-48.49573</td><td>-46.04709</td><td>-44.14701</td><td>-43.23274</td><td>-43.47255</td><td>-44.78951</td><td>-46.65123</td><td>-47.67354</td></tr>\n",
              "\t<tr><td>27-07-20 04:56:02</td><td>LWF011</td><td>91</td><td>401</td><td>368</td><td>606</td><td>205</td><td>36</td><td>N</td><td>1</td><td>⋯</td><td>-44.29895</td><td>-43.93138</td><td>-43.87866</td><td>-43.89192</td><td>-43.74296</td><td>-43.44356</td><td>-43.27754</td><td>-43.48801</td><td>-44.12393</td><td>-45.14765</td></tr>\n",
              "\t<tr><td>27-07-20 04:56:02</td><td>LWF011</td><td>91</td><td>401</td><td>368</td><td>606</td><td>205</td><td>36</td><td>N</td><td>1</td><td>⋯</td><td>-50.03503</td><td>-55.32350</td><td>-61.72922</td><td>-51.55087</td><td>-46.74970</td><td>-44.19216</td><td>-42.79741</td><td>-42.10364</td><td>-41.88237</td><td>-41.97945</td></tr>\n",
              "</tbody>\n",
              "</table>\n"
            ],
            "text/markdown": "\nA tibble: 45251 × 302\n\n| dateTimeSample &lt;dttm&gt; | fishNum &lt;chr&gt; | spCode &lt;dbl&gt; | totalLength &lt;dbl&gt; | forkLength &lt;chr&gt; | weight &lt;dbl&gt; | girth &lt;dbl&gt; | dorsoLatHeight &lt;dbl&gt; | clipTag &lt;chr&gt; | sex &lt;dbl&gt; | ⋯ ⋯ | F165.5 &lt;dbl&gt; | F166 &lt;dbl&gt; | F166.5 &lt;dbl&gt; | F167 &lt;dbl&gt; | F167.5 &lt;dbl&gt; | F168 &lt;dbl&gt; | F168.5 &lt;dbl&gt; | F169 &lt;dbl&gt; | F169.5 &lt;dbl&gt; | F170 &lt;dbl&gt; |\n|---|---|---|---|---|---|---|---|---|---|---|---|---|---|---|---|---|---|---|---|---|\n| 26-07-20 04:56:02 | LT009 | 81 | 521 | 474 | 1132 | 236 | 49 | N | 2 | ⋯ | -33.31732 | -33.48272 | -33.98954 | -34.71069 | -35.47591 | -36.11846 | -36.57586 | -36.90389 | -37.16360 | -37.37286 |\n| 26-07-20 04:56:02 | LT009 | 81 | 521 | 474 | 1132 | 236 | 49 | N | 2 | ⋯ | -47.93437 | -55.27752 | -49.75377 | -43.36868 | -39.93659 | -38.22149 | -37.75096 | -38.21294 | -39.35730 | -41.04031 |\n| 26-07-20 04:56:02 | LT009 | 81 | 521 | 474 | 1132 | 236 | 49 | N | 2 | ⋯ | -43.51204 | -44.28880 | -45.48378 | -46.41323 | -46.20443 | -46.10777 | -47.79635 | -51.34248 | -52.21717 | -51.22738 |\n| 26-07-20 04:56:02 | LT009 | 81 | 521 | 474 | 1132 | 236 | 49 | N | 2 | ⋯ | -43.60107 | -42.57205 | -42.36388 | -42.79280 | -43.24235 | -43.47555 | -44.25610 | -46.26738 | -49.37243 | -51.95134 |\n| 26-07-20 04:56:02 | LT009 | 81 | 521 | 474 | 1132 | 236 | 49 | N | 2 | ⋯ | -37.35113 | -36.52720 | -36.12024 | -36.28219 | -36.87755 | -37.58748 | -38.33421 | -38.65026 | -37.10683 | -34.48625 |\n| 26-07-20 04:56:02 | LT009 | 81 | 521 | 474 | 1132 | 236 | 49 | N | 2 | ⋯ | -33.32777 | -32.72380 | -32.66965 | -32.60390 | -32.43916 | -32.96681 | -35.13315 | -39.78136 | -46.17297 | -44.42698 |\n| 26-07-20 04:56:02 | LT009 | 81 | 521 | 474 | 1132 | 236 | 49 | N | 2 | ⋯ | -43.06297 | -44.89117 | -46.83981 | -48.26073 | -48.73601 | -46.82269 | -44.71505 | -44.26200 | -45.54696 | -48.31731 |\n| 26-07-20 04:56:02 | LT009 | 81 | 521 | 474 | 1132 | 236 | 49 | N | 2 | ⋯ | -42.60981 | -44.27151 | -48.55686 | -57.49871 | -48.56347 | -43.80375 | -41.95260 | -41.66501 | -42.73266 | -45.96766 |\n| 26-07-20 04:56:02 | LT009 | 81 | 521 | 474 | 1132 | 236 | 49 | N | 2 | ⋯ | -42.17858 | -46.13763 | -49.22816 | -42.07251 | -35.43637 | -31.48083 | -29.72450 | -29.86794 | -31.79124 | -35.66754 |\n| 26-07-20 04:56:02 | LT009 | 81 | 521 | 474 | 1132 | 236 | 49 | N | 2 | ⋯ | -33.40930 | -35.03419 | -39.22272 | -50.58940 | -48.95248 | -44.55936 | -43.09744 | -38.97563 | -36.36449 | -36.25474 |\n| 26-07-20 04:56:02 | LT009 | 81 | 521 | 474 | 1132 | 236 | 49 | N | 2 | ⋯ | -37.48830 | -37.38090 | -38.33965 | -38.93740 | -38.37023 | -38.57920 | -41.29389 | -48.62900 | -59.26864 | -48.45504 |\n| 26-07-20 04:56:02 | LT009 | 81 | 521 | 474 | 1132 | 236 | 49 | N | 2 | ⋯ | -40.82712 | -39.16390 | -39.34050 | -42.06967 | -46.01858 | -42.72443 | -40.43491 | -41.26567 | -44.69268 | -49.62661 |\n| 26-07-20 04:56:02 | LT009 | 81 | 521 | 474 | 1132 | 236 | 49 | N | 2 | ⋯ | -45.94084 | -48.35860 | -42.50654 | -40.08557 | -40.65750 | -44.39982 | -52.63827 | -51.22607 | -45.69048 | -42.75466 |\n| 26-07-20 04:56:02 | LT009 | 81 | 521 | 474 | 1132 | 236 | 49 | N | 2 | ⋯ | -34.73834 | -34.80306 | -34.92956 | -35.26899 | -35.99378 | -37.25409 | -39.10377 | -41.40001 | -43.61299 | -44.75685 |\n| 26-07-20 04:56:02 | LT009 | 81 | 521 | 474 | 1132 | 236 | 49 | N | 2 | ⋯ | -45.02204 | -44.22327 | -43.53907 | -43.71742 | -44.82518 | -45.79078 | -45.14582 | -43.86649 | -43.06865 | -42.96524 |\n| 26-07-20 04:56:02 | LT009 | 81 | 521 | 474 | 1132 | 236 | 49 | N | 2 | ⋯ | -47.84968 | -47.64415 | -45.39721 | -42.91607 | -41.18368 | -40.45297 | -40.78824 | -42.15647 | -43.89960 | -43.50131 |\n| 26-07-20 04:56:02 | LT009 | 81 | 521 | 474 | 1132 | 236 | 49 | N | 2 | ⋯ | -43.36863 | -49.02757 | -51.00130 | -43.50068 | -40.13222 | -39.23533 | -40.16683 | -42.60740 | -46.35735 | -50.48304 |\n| 26-07-20 04:56:02 | LT009 | 81 | 521 | 474 | 1132 | 236 | 49 | N | 2 | ⋯ | -43.28206 | -40.19327 | -38.75463 | -39.16434 | -41.86226 | -48.03016 | -55.83986 | -47.84620 | -42.62430 | -39.39771 |\n| 26-07-20 04:56:02 | LT009 | 81 | 521 | 474 | 1132 | 236 | 49 | N | 2 | ⋯ | -41.49833 | -38.93479 | -36.71503 | -35.51522 | -35.52174 | -36.79964 | -39.13077 | -41.47527 | -41.93837 | -40.77283 |\n| 26-07-20 04:56:02 | LT009 | 81 | 521 | 474 | 1132 | 236 | 49 | N | 2 | ⋯ | -40.71700 | -41.97521 | -43.99316 | -46.80281 | -49.64634 | -50.66090 | -49.58050 | -47.74796 | -46.23847 | -45.59554 |\n| 26-07-20 04:56:02 | LT009 | 81 | 521 | 474 | 1132 | 236 | 49 | N | 2 | ⋯ | -40.77980 | -42.57289 | -45.94466 | -51.71959 | -61.85248 | -66.50160 | -54.65889 | -50.25427 | -49.39068 | -51.98858 |\n| 26-07-20 04:56:02 | LT009 | 81 | 521 | 474 | 1132 | 236 | 49 | N | 2 | ⋯ | -42.99342 | -45.53120 | -48.72001 | -51.30032 | -52.07093 | -51.34704 | -52.08243 | -54.46983 | -49.30424 | -44.80899 |\n| 26-07-20 04:56:02 | LT009 | 81 | 521 | 474 | 1132 | 236 | 49 | N | 2 | ⋯ | -61.08510 | -59.41102 | -50.89662 | -46.51935 | -43.78225 | -42.24522 | -41.92164 | -42.64552 | -43.62727 | -43.91402 |\n| 26-07-20 04:56:02 | LT009 | 81 | 521 | 474 | 1132 | 236 | 49 | N | 2 | ⋯ | -50.56471 | -50.04467 | -45.18904 | -40.67069 | -38.02260 | -37.25286 | -38.36555 | -41.52676 | -47.50300 | -52.50546 |\n| 26-07-20 04:56:02 | LT009 | 81 | 521 | 474 | 1132 | 236 | 49 | N | 2 | ⋯ | -43.80438 | -45.63071 | -50.76195 | -58.86461 | -53.07755 | -52.65618 | -56.87987 | -50.52016 | -45.43599 | -43.30978 |\n| 26-07-20 04:56:02 | LT009 | 81 | 521 | 474 | 1132 | 236 | 49 | N | 2 | ⋯ | -41.20601 | -43.93129 | -45.71867 | -46.26055 | -47.50062 | -49.61436 | -49.43361 | -45.53431 | -41.25677 | -38.06184 |\n| 26-07-20 04:56:02 | LT009 | 81 | 521 | 474 | 1132 | 236 | 49 | N | 2 | ⋯ | -35.58769 | -38.20660 | -40.99305 | -41.17246 | -39.22179 | -37.83049 | -37.61936 | -38.63516 | -41.03061 | -45.36363 |\n| 26-07-20 04:56:02 | LT009 | 81 | 521 | 474 | 1132 | 236 | 49 | N | 2 | ⋯ | -51.04813 | -54.10972 | -57.72342 | -55.56210 | -61.60413 | -53.25058 | -45.30345 | -43.03918 | -44.66583 | -50.07589 |\n| 26-07-20 04:56:02 | LT009 | 81 | 521 | 474 | 1132 | 236 | 49 | N | 2 | ⋯ | -32.38888 | -32.52763 | -33.69275 | -35.89065 | -38.62021 | -40.48688 | -40.15998 | -38.15883 | -36.41668 | -35.78606 |\n| 26-07-20 04:56:02 | LT009 | 81 | 521 | 474 | 1132 | 236 | 49 | N | 2 | ⋯ | -33.47635 | -34.19573 | -35.92943 | -39.06683 | -43.71749 | -46.77645 | -45.83566 | -44.38123 | -42.83615 | -41.94712 |\n| ⋮ | ⋮ | ⋮ | ⋮ | ⋮ | ⋮ | ⋮ | ⋮ | ⋮ | ⋮ | ⋱ | ⋮ | ⋮ | ⋮ | ⋮ | ⋮ | ⋮ | ⋮ | ⋮ | ⋮ | ⋮ |\n| 27-07-20 04:56:02 | LWF011 | 91 | 401 | 368 | 606 | 205 | 36 | N | 1 | ⋯ | -48.70898 | -48.18153 | -49.28216 | -51.92945 | -54.65982 | -55.04103 | -56.17844 | -58.32728 | -54.87349 | -51.77755 |\n| 27-07-20 04:56:02 | LWF011 | 91 | 401 | 368 | 606 | 205 | 36 | N | 1 | ⋯ | -41.33352 | -41.28966 | -41.53101 | -42.38319 | -44.22744 | -47.15449 | -50.15023 | -52.64604 | -58.77422 | -58.57411 |\n| 27-07-20 04:56:02 | LWF011 | 91 | 401 | 368 | 606 | 205 | 36 | N | 1 | ⋯ | -45.01344 | -46.07166 | -47.55810 | -48.71487 | -48.78842 | -47.97762 | -47.41073 | -47.94481 | -49.35604 | -48.97886 |\n| 27-07-20 04:56:02 | LWF011 | 91 | 401 | 368 | 606 | 205 | 36 | N | 1 | ⋯ | -46.32720 | -45.16411 | -45.02556 | -45.39152 | -45.32711 | -44.79413 | -44.94193 | -46.57295 | -50.18454 | -56.91660 |\n| 27-07-20 04:56:02 | LWF011 | 91 | 401 | 368 | 606 | 205 | 36 | N | 1 | ⋯ | -42.99607 | -43.14076 | -44.36826 | -47.11334 | -50.65972 | -49.99760 | -48.05072 | -48.08948 | -49.77746 | -51.27790 |\n| 27-07-20 04:56:02 | LWF011 | 91 | 401 | 368 | 606 | 205 | 36 | N | 1 | ⋯ | -61.30158 | -61.31779 | -61.81294 | -62.05056 | -53.76549 | -49.31369 | -47.98368 | -49.03649 | -51.10230 | -50.26113 |\n| 27-07-20 04:56:02 | LWF011 | 91 | 401 | 368 | 606 | 205 | 36 | N | 1 | ⋯ | -46.34153 | -51.21696 | -54.21422 | -56.26321 | -66.61982 | -51.73407 | -46.53827 | -45.34927 | -47.12738 | -52.36392 |\n| 27-07-20 04:56:02 | LWF011 | 91 | 401 | 368 | 606 | 205 | 36 | N | 1 | ⋯ | -58.39646 | -56.46928 | -52.36735 | -49.64062 | -47.83692 | -46.21741 | -44.83451 | -44.31746 | -45.07098 | -47.30714 |\n| 27-07-20 04:56:02 | LWF011 | 91 | 401 | 368 | 606 | 205 | 36 | N | 1 | ⋯ | -46.04097 | -45.89138 | -45.37635 | -45.30562 | -46.60878 | -50.18586 | -55.06238 | -54.23033 | -53.72378 | -53.85827 |\n| 27-07-20 04:56:02 | LWF011 | 91 | 401 | 368 | 606 | 205 | 36 | N | 1 | ⋯ | -47.53708 | -50.56851 | -54.44755 | -59.14812 | -62.71800 | -61.60138 | -59.68939 | -58.96216 | -59.41109 | -60.86140 |\n| 27-07-20 04:56:02 | LWF011 | 91 | 401 | 368 | 606 | 205 | 36 | N | 1 | ⋯ | -36.13680 | -35.25386 | -34.95908 | -35.22185 | -35.92265 | -36.80611 | -37.57560 | -38.18476 | -38.91981 | -40.20007 |\n| 27-07-20 04:56:02 | LWF011 | 91 | 401 | 368 | 606 | 205 | 36 | N | 1 | ⋯ | -46.82642 | -46.26022 | -45.71639 | -45.97129 | -47.79646 | -52.26271 | -62.52636 | -70.85537 | -66.18828 | -60.47470 |\n| 27-07-20 04:56:02 | LWF011 | 91 | 401 | 368 | 606 | 205 | 36 | N | 1 | ⋯ | -51.78438 | -50.91399 | -50.42424 | -49.86862 | -48.57734 | -46.41837 | -44.05573 | -42.26963 | -41.41941 | -41.55896 |\n| 27-07-20 04:56:02 | LWF011 | 91 | 401 | 368 | 606 | 205 | 36 | N | 1 | ⋯ | -41.65739 | -41.34903 | -40.99461 | -40.71869 | -40.62284 | -40.80650 | -41.39084 | -42.50835 | -44.29501 | -46.92706 |\n| 27-07-20 04:56:02 | LWF011 | 91 | 401 | 368 | 606 | 205 | 36 | N | 1 | ⋯ | -45.89528 | -45.03942 | -44.21180 | -43.22471 | -42.08122 | -41.01720 | -40.29153 | -40.01422 | -40.15992 | -40.64670 |\n| 27-07-20 04:56:02 | LWF011 | 91 | 401 | 368 | 606 | 205 | 36 | N | 1 | ⋯ | -37.07319 | -37.70726 | -38.52117 | -39.59074 | -41.00043 | -42.77386 | -44.82456 | -47.03067 | -49.41549 | -52.18875 |\n| 27-07-20 04:56:02 | LWF011 | 91 | 401 | 368 | 606 | 205 | 36 | N | 1 | ⋯ | -44.87892 | -43.61847 | -42.48158 | -42.00684 | -42.66844 | -45.04006 | -50.27210 | -67.14444 | -54.37942 | -47.99813 |\n| 27-07-20 04:56:02 | LWF011 | 91 | 401 | 368 | 606 | 205 | 36 | N | 1 | ⋯ | -45.29234 | -48.47796 | -51.83950 | -52.56172 | -50.01495 | -47.62679 | -46.61821 | -46.78790 | -47.55459 | -48.84030 |\n| 27-07-20 04:56:02 | LWF011 | 91 | 401 | 368 | 606 | 205 | 36 | N | 1 | ⋯ | -50.15212 | -50.10622 | -49.88214 | -49.64264 | -49.48400 | -49.39146 | -49.37342 | -49.61325 | -50.40142 | -52.03791 |\n| 27-07-20 04:56:02 | LWF011 | 91 | 401 | 368 | 606 | 205 | 36 | N | 1 | ⋯ | -41.44012 | -42.78506 | -44.21013 | -45.59320 | -46.87438 | -48.17263 | -49.73279 | -51.56531 | -53.03444 | -53.27795 |\n| 27-07-20 04:56:02 | LWF011 | 91 | 401 | 368 | 606 | 205 | 36 | N | 1 | ⋯ | -41.28393 | -41.40044 | -41.59105 | -41.74543 | -41.81408 | -41.67671 | -41.41443 | -41.41605 | -41.97828 | -43.13047 |\n| 27-07-20 04:56:02 | LWF011 | 91 | 401 | 368 | 606 | 205 | 36 | N | 1 | ⋯ | -38.96040 | -38.52649 | -38.52677 | -38.87696 | -39.43342 | -40.02942 | -40.66632 | -41.49672 | -42.55469 | -43.65075 |\n| 27-07-20 04:56:02 | LWF011 | 91 | 401 | 368 | 606 | 205 | 36 | N | 1 | ⋯ | -41.84157 | -42.91660 | -44.88909 | -49.27068 | -59.53688 | -54.99502 | -52.37829 | -55.95875 | -58.59798 | -50.35633 |\n| 27-07-20 04:56:02 | LWF011 | 91 | 401 | 368 | 606 | 205 | 36 | N | 1 | ⋯ | -44.93021 | -47.11844 | -48.44419 | -49.34060 | -51.27193 | -56.97424 | -59.16565 | -51.65741 | -49.38901 | -50.26279 |\n| 27-07-20 04:56:02 | LWF011 | 91 | 401 | 368 | 606 | 205 | 36 | N | 1 | ⋯ | -53.29325 | -64.14916 | -59.35917 | -52.00746 | -48.50582 | -46.58454 | -45.52232 | -44.86725 | -44.34779 | -43.90774 |\n| 27-07-20 04:56:02 | LWF011 | 91 | 401 | 368 | 606 | 205 | 36 | N | 1 | ⋯ | -43.92692 | -44.70184 | -45.77076 | -48.42729 | -55.51452 | -60.54639 | -52.58581 | -52.26430 | -55.79908 | -52.76772 |\n| 27-07-20 04:56:02 | LWF011 | 91 | 401 | 368 | 606 | 205 | 36 | N | 1 | ⋯ | -44.28593 | -46.69162 | -50.69510 | -55.45536 | -68.15515 | -54.30320 | -46.71167 | -43.84403 | -43.76686 | -46.32839 |\n| 27-07-20 04:56:02 | LWF011 | 91 | 401 | 368 | 606 | 205 | 36 | N | 1 | ⋯ | -52.66342 | -50.79109 | -48.49573 | -46.04709 | -44.14701 | -43.23274 | -43.47255 | -44.78951 | -46.65123 | -47.67354 |\n| 27-07-20 04:56:02 | LWF011 | 91 | 401 | 368 | 606 | 205 | 36 | N | 1 | ⋯ | -44.29895 | -43.93138 | -43.87866 | -43.89192 | -43.74296 | -43.44356 | -43.27754 | -43.48801 | -44.12393 | -45.14765 |\n| 27-07-20 04:56:02 | LWF011 | 91 | 401 | 368 | 606 | 205 | 36 | N | 1 | ⋯ | -50.03503 | -55.32350 | -61.72922 | -51.55087 | -46.74970 | -44.19216 | -42.79741 | -42.10364 | -41.88237 | -41.97945 |\n\n",
            "text/latex": "A tibble: 45251 × 302\n\\begin{tabular}{lllllllllllllllllllll}\n dateTimeSample & fishNum & spCode & totalLength & forkLength & weight & girth & dorsoLatHeight & clipTag & sex & ⋯ & F165.5 & F166 & F166.5 & F167 & F167.5 & F168 & F168.5 & F169 & F169.5 & F170\\\\\n <dttm> & <chr> & <dbl> & <dbl> & <chr> & <dbl> & <dbl> & <dbl> & <chr> & <dbl> & ⋯ & <dbl> & <dbl> & <dbl> & <dbl> & <dbl> & <dbl> & <dbl> & <dbl> & <dbl> & <dbl>\\\\\n\\hline\n\t 26-07-20 04:56:02 & LT009 & 81 & 521 & 474 & 1132 & 236 & 49 & N & 2 & ⋯ & -33.31732 & -33.48272 & -33.98954 & -34.71069 & -35.47591 & -36.11846 & -36.57586 & -36.90389 & -37.16360 & -37.37286\\\\\n\t 26-07-20 04:56:02 & LT009 & 81 & 521 & 474 & 1132 & 236 & 49 & N & 2 & ⋯ & -47.93437 & -55.27752 & -49.75377 & -43.36868 & -39.93659 & -38.22149 & -37.75096 & -38.21294 & -39.35730 & -41.04031\\\\\n\t 26-07-20 04:56:02 & LT009 & 81 & 521 & 474 & 1132 & 236 & 49 & N & 2 & ⋯ & -43.51204 & -44.28880 & -45.48378 & -46.41323 & -46.20443 & -46.10777 & -47.79635 & -51.34248 & -52.21717 & -51.22738\\\\\n\t 26-07-20 04:56:02 & LT009 & 81 & 521 & 474 & 1132 & 236 & 49 & N & 2 & ⋯ & -43.60107 & -42.57205 & -42.36388 & -42.79280 & -43.24235 & -43.47555 & -44.25610 & -46.26738 & -49.37243 & -51.95134\\\\\n\t 26-07-20 04:56:02 & LT009 & 81 & 521 & 474 & 1132 & 236 & 49 & N & 2 & ⋯ & -37.35113 & -36.52720 & -36.12024 & -36.28219 & -36.87755 & -37.58748 & -38.33421 & -38.65026 & -37.10683 & -34.48625\\\\\n\t 26-07-20 04:56:02 & LT009 & 81 & 521 & 474 & 1132 & 236 & 49 & N & 2 & ⋯ & -33.32777 & -32.72380 & -32.66965 & -32.60390 & -32.43916 & -32.96681 & -35.13315 & -39.78136 & -46.17297 & -44.42698\\\\\n\t 26-07-20 04:56:02 & LT009 & 81 & 521 & 474 & 1132 & 236 & 49 & N & 2 & ⋯ & -43.06297 & -44.89117 & -46.83981 & -48.26073 & -48.73601 & -46.82269 & -44.71505 & -44.26200 & -45.54696 & -48.31731\\\\\n\t 26-07-20 04:56:02 & LT009 & 81 & 521 & 474 & 1132 & 236 & 49 & N & 2 & ⋯ & -42.60981 & -44.27151 & -48.55686 & -57.49871 & -48.56347 & -43.80375 & -41.95260 & -41.66501 & -42.73266 & -45.96766\\\\\n\t 26-07-20 04:56:02 & LT009 & 81 & 521 & 474 & 1132 & 236 & 49 & N & 2 & ⋯ & -42.17858 & -46.13763 & -49.22816 & -42.07251 & -35.43637 & -31.48083 & -29.72450 & -29.86794 & -31.79124 & -35.66754\\\\\n\t 26-07-20 04:56:02 & LT009 & 81 & 521 & 474 & 1132 & 236 & 49 & N & 2 & ⋯ & -33.40930 & -35.03419 & -39.22272 & -50.58940 & -48.95248 & -44.55936 & -43.09744 & -38.97563 & -36.36449 & -36.25474\\\\\n\t 26-07-20 04:56:02 & LT009 & 81 & 521 & 474 & 1132 & 236 & 49 & N & 2 & ⋯ & -37.48830 & -37.38090 & -38.33965 & -38.93740 & -38.37023 & -38.57920 & -41.29389 & -48.62900 & -59.26864 & -48.45504\\\\\n\t 26-07-20 04:56:02 & LT009 & 81 & 521 & 474 & 1132 & 236 & 49 & N & 2 & ⋯ & -40.82712 & -39.16390 & -39.34050 & -42.06967 & -46.01858 & -42.72443 & -40.43491 & -41.26567 & -44.69268 & -49.62661\\\\\n\t 26-07-20 04:56:02 & LT009 & 81 & 521 & 474 & 1132 & 236 & 49 & N & 2 & ⋯ & -45.94084 & -48.35860 & -42.50654 & -40.08557 & -40.65750 & -44.39982 & -52.63827 & -51.22607 & -45.69048 & -42.75466\\\\\n\t 26-07-20 04:56:02 & LT009 & 81 & 521 & 474 & 1132 & 236 & 49 & N & 2 & ⋯ & -34.73834 & -34.80306 & -34.92956 & -35.26899 & -35.99378 & -37.25409 & -39.10377 & -41.40001 & -43.61299 & -44.75685\\\\\n\t 26-07-20 04:56:02 & LT009 & 81 & 521 & 474 & 1132 & 236 & 49 & N & 2 & ⋯ & -45.02204 & -44.22327 & -43.53907 & -43.71742 & -44.82518 & -45.79078 & -45.14582 & -43.86649 & -43.06865 & -42.96524\\\\\n\t 26-07-20 04:56:02 & LT009 & 81 & 521 & 474 & 1132 & 236 & 49 & N & 2 & ⋯ & -47.84968 & -47.64415 & -45.39721 & -42.91607 & -41.18368 & -40.45297 & -40.78824 & -42.15647 & -43.89960 & -43.50131\\\\\n\t 26-07-20 04:56:02 & LT009 & 81 & 521 & 474 & 1132 & 236 & 49 & N & 2 & ⋯ & -43.36863 & -49.02757 & -51.00130 & -43.50068 & -40.13222 & -39.23533 & -40.16683 & -42.60740 & -46.35735 & -50.48304\\\\\n\t 26-07-20 04:56:02 & LT009 & 81 & 521 & 474 & 1132 & 236 & 49 & N & 2 & ⋯ & -43.28206 & -40.19327 & -38.75463 & -39.16434 & -41.86226 & -48.03016 & -55.83986 & -47.84620 & -42.62430 & -39.39771\\\\\n\t 26-07-20 04:56:02 & LT009 & 81 & 521 & 474 & 1132 & 236 & 49 & N & 2 & ⋯ & -41.49833 & -38.93479 & -36.71503 & -35.51522 & -35.52174 & -36.79964 & -39.13077 & -41.47527 & -41.93837 & -40.77283\\\\\n\t 26-07-20 04:56:02 & LT009 & 81 & 521 & 474 & 1132 & 236 & 49 & N & 2 & ⋯ & -40.71700 & -41.97521 & -43.99316 & -46.80281 & -49.64634 & -50.66090 & -49.58050 & -47.74796 & -46.23847 & -45.59554\\\\\n\t 26-07-20 04:56:02 & LT009 & 81 & 521 & 474 & 1132 & 236 & 49 & N & 2 & ⋯ & -40.77980 & -42.57289 & -45.94466 & -51.71959 & -61.85248 & -66.50160 & -54.65889 & -50.25427 & -49.39068 & -51.98858\\\\\n\t 26-07-20 04:56:02 & LT009 & 81 & 521 & 474 & 1132 & 236 & 49 & N & 2 & ⋯ & -42.99342 & -45.53120 & -48.72001 & -51.30032 & -52.07093 & -51.34704 & -52.08243 & -54.46983 & -49.30424 & -44.80899\\\\\n\t 26-07-20 04:56:02 & LT009 & 81 & 521 & 474 & 1132 & 236 & 49 & N & 2 & ⋯ & -61.08510 & -59.41102 & -50.89662 & -46.51935 & -43.78225 & -42.24522 & -41.92164 & -42.64552 & -43.62727 & -43.91402\\\\\n\t 26-07-20 04:56:02 & LT009 & 81 & 521 & 474 & 1132 & 236 & 49 & N & 2 & ⋯ & -50.56471 & -50.04467 & -45.18904 & -40.67069 & -38.02260 & -37.25286 & -38.36555 & -41.52676 & -47.50300 & -52.50546\\\\\n\t 26-07-20 04:56:02 & LT009 & 81 & 521 & 474 & 1132 & 236 & 49 & N & 2 & ⋯ & -43.80438 & -45.63071 & -50.76195 & -58.86461 & -53.07755 & -52.65618 & -56.87987 & -50.52016 & -45.43599 & -43.30978\\\\\n\t 26-07-20 04:56:02 & LT009 & 81 & 521 & 474 & 1132 & 236 & 49 & N & 2 & ⋯ & -41.20601 & -43.93129 & -45.71867 & -46.26055 & -47.50062 & -49.61436 & -49.43361 & -45.53431 & -41.25677 & -38.06184\\\\\n\t 26-07-20 04:56:02 & LT009 & 81 & 521 & 474 & 1132 & 236 & 49 & N & 2 & ⋯ & -35.58769 & -38.20660 & -40.99305 & -41.17246 & -39.22179 & -37.83049 & -37.61936 & -38.63516 & -41.03061 & -45.36363\\\\\n\t 26-07-20 04:56:02 & LT009 & 81 & 521 & 474 & 1132 & 236 & 49 & N & 2 & ⋯ & -51.04813 & -54.10972 & -57.72342 & -55.56210 & -61.60413 & -53.25058 & -45.30345 & -43.03918 & -44.66583 & -50.07589\\\\\n\t 26-07-20 04:56:02 & LT009 & 81 & 521 & 474 & 1132 & 236 & 49 & N & 2 & ⋯ & -32.38888 & -32.52763 & -33.69275 & -35.89065 & -38.62021 & -40.48688 & -40.15998 & -38.15883 & -36.41668 & -35.78606\\\\\n\t 26-07-20 04:56:02 & LT009 & 81 & 521 & 474 & 1132 & 236 & 49 & N & 2 & ⋯ & -33.47635 & -34.19573 & -35.92943 & -39.06683 & -43.71749 & -46.77645 & -45.83566 & -44.38123 & -42.83615 & -41.94712\\\\\n\t ⋮ & ⋮ & ⋮ & ⋮ & ⋮ & ⋮ & ⋮ & ⋮ & ⋮ & ⋮ & ⋱ & ⋮ & ⋮ & ⋮ & ⋮ & ⋮ & ⋮ & ⋮ & ⋮ & ⋮ & ⋮\\\\\n\t 27-07-20 04:56:02 & LWF011 & 91 & 401 & 368 & 606 & 205 & 36 & N & 1 & ⋯ & -48.70898 & -48.18153 & -49.28216 & -51.92945 & -54.65982 & -55.04103 & -56.17844 & -58.32728 & -54.87349 & -51.77755\\\\\n\t 27-07-20 04:56:02 & LWF011 & 91 & 401 & 368 & 606 & 205 & 36 & N & 1 & ⋯ & -41.33352 & -41.28966 & -41.53101 & -42.38319 & -44.22744 & -47.15449 & -50.15023 & -52.64604 & -58.77422 & -58.57411\\\\\n\t 27-07-20 04:56:02 & LWF011 & 91 & 401 & 368 & 606 & 205 & 36 & N & 1 & ⋯ & -45.01344 & -46.07166 & -47.55810 & -48.71487 & -48.78842 & -47.97762 & -47.41073 & -47.94481 & -49.35604 & -48.97886\\\\\n\t 27-07-20 04:56:02 & LWF011 & 91 & 401 & 368 & 606 & 205 & 36 & N & 1 & ⋯ & -46.32720 & -45.16411 & -45.02556 & -45.39152 & -45.32711 & -44.79413 & -44.94193 & -46.57295 & -50.18454 & -56.91660\\\\\n\t 27-07-20 04:56:02 & LWF011 & 91 & 401 & 368 & 606 & 205 & 36 & N & 1 & ⋯ & -42.99607 & -43.14076 & -44.36826 & -47.11334 & -50.65972 & -49.99760 & -48.05072 & -48.08948 & -49.77746 & -51.27790\\\\\n\t 27-07-20 04:56:02 & LWF011 & 91 & 401 & 368 & 606 & 205 & 36 & N & 1 & ⋯ & -61.30158 & -61.31779 & -61.81294 & -62.05056 & -53.76549 & -49.31369 & -47.98368 & -49.03649 & -51.10230 & -50.26113\\\\\n\t 27-07-20 04:56:02 & LWF011 & 91 & 401 & 368 & 606 & 205 & 36 & N & 1 & ⋯ & -46.34153 & -51.21696 & -54.21422 & -56.26321 & -66.61982 & -51.73407 & -46.53827 & -45.34927 & -47.12738 & -52.36392\\\\\n\t 27-07-20 04:56:02 & LWF011 & 91 & 401 & 368 & 606 & 205 & 36 & N & 1 & ⋯ & -58.39646 & -56.46928 & -52.36735 & -49.64062 & -47.83692 & -46.21741 & -44.83451 & -44.31746 & -45.07098 & -47.30714\\\\\n\t 27-07-20 04:56:02 & LWF011 & 91 & 401 & 368 & 606 & 205 & 36 & N & 1 & ⋯ & -46.04097 & -45.89138 & -45.37635 & -45.30562 & -46.60878 & -50.18586 & -55.06238 & -54.23033 & -53.72378 & -53.85827\\\\\n\t 27-07-20 04:56:02 & LWF011 & 91 & 401 & 368 & 606 & 205 & 36 & N & 1 & ⋯ & -47.53708 & -50.56851 & -54.44755 & -59.14812 & -62.71800 & -61.60138 & -59.68939 & -58.96216 & -59.41109 & -60.86140\\\\\n\t 27-07-20 04:56:02 & LWF011 & 91 & 401 & 368 & 606 & 205 & 36 & N & 1 & ⋯ & -36.13680 & -35.25386 & -34.95908 & -35.22185 & -35.92265 & -36.80611 & -37.57560 & -38.18476 & -38.91981 & -40.20007\\\\\n\t 27-07-20 04:56:02 & LWF011 & 91 & 401 & 368 & 606 & 205 & 36 & N & 1 & ⋯ & -46.82642 & -46.26022 & -45.71639 & -45.97129 & -47.79646 & -52.26271 & -62.52636 & -70.85537 & -66.18828 & -60.47470\\\\\n\t 27-07-20 04:56:02 & LWF011 & 91 & 401 & 368 & 606 & 205 & 36 & N & 1 & ⋯ & -51.78438 & -50.91399 & -50.42424 & -49.86862 & -48.57734 & -46.41837 & -44.05573 & -42.26963 & -41.41941 & -41.55896\\\\\n\t 27-07-20 04:56:02 & LWF011 & 91 & 401 & 368 & 606 & 205 & 36 & N & 1 & ⋯ & -41.65739 & -41.34903 & -40.99461 & -40.71869 & -40.62284 & -40.80650 & -41.39084 & -42.50835 & -44.29501 & -46.92706\\\\\n\t 27-07-20 04:56:02 & LWF011 & 91 & 401 & 368 & 606 & 205 & 36 & N & 1 & ⋯ & -45.89528 & -45.03942 & -44.21180 & -43.22471 & -42.08122 & -41.01720 & -40.29153 & -40.01422 & -40.15992 & -40.64670\\\\\n\t 27-07-20 04:56:02 & LWF011 & 91 & 401 & 368 & 606 & 205 & 36 & N & 1 & ⋯ & -37.07319 & -37.70726 & -38.52117 & -39.59074 & -41.00043 & -42.77386 & -44.82456 & -47.03067 & -49.41549 & -52.18875\\\\\n\t 27-07-20 04:56:02 & LWF011 & 91 & 401 & 368 & 606 & 205 & 36 & N & 1 & ⋯ & -44.87892 & -43.61847 & -42.48158 & -42.00684 & -42.66844 & -45.04006 & -50.27210 & -67.14444 & -54.37942 & -47.99813\\\\\n\t 27-07-20 04:56:02 & LWF011 & 91 & 401 & 368 & 606 & 205 & 36 & N & 1 & ⋯ & -45.29234 & -48.47796 & -51.83950 & -52.56172 & -50.01495 & -47.62679 & -46.61821 & -46.78790 & -47.55459 & -48.84030\\\\\n\t 27-07-20 04:56:02 & LWF011 & 91 & 401 & 368 & 606 & 205 & 36 & N & 1 & ⋯ & -50.15212 & -50.10622 & -49.88214 & -49.64264 & -49.48400 & -49.39146 & -49.37342 & -49.61325 & -50.40142 & -52.03791\\\\\n\t 27-07-20 04:56:02 & LWF011 & 91 & 401 & 368 & 606 & 205 & 36 & N & 1 & ⋯ & -41.44012 & -42.78506 & -44.21013 & -45.59320 & -46.87438 & -48.17263 & -49.73279 & -51.56531 & -53.03444 & -53.27795\\\\\n\t 27-07-20 04:56:02 & LWF011 & 91 & 401 & 368 & 606 & 205 & 36 & N & 1 & ⋯ & -41.28393 & -41.40044 & -41.59105 & -41.74543 & -41.81408 & -41.67671 & -41.41443 & -41.41605 & -41.97828 & -43.13047\\\\\n\t 27-07-20 04:56:02 & LWF011 & 91 & 401 & 368 & 606 & 205 & 36 & N & 1 & ⋯ & -38.96040 & -38.52649 & -38.52677 & -38.87696 & -39.43342 & -40.02942 & -40.66632 & -41.49672 & -42.55469 & -43.65075\\\\\n\t 27-07-20 04:56:02 & LWF011 & 91 & 401 & 368 & 606 & 205 & 36 & N & 1 & ⋯ & -41.84157 & -42.91660 & -44.88909 & -49.27068 & -59.53688 & -54.99502 & -52.37829 & -55.95875 & -58.59798 & -50.35633\\\\\n\t 27-07-20 04:56:02 & LWF011 & 91 & 401 & 368 & 606 & 205 & 36 & N & 1 & ⋯ & -44.93021 & -47.11844 & -48.44419 & -49.34060 & -51.27193 & -56.97424 & -59.16565 & -51.65741 & -49.38901 & -50.26279\\\\\n\t 27-07-20 04:56:02 & LWF011 & 91 & 401 & 368 & 606 & 205 & 36 & N & 1 & ⋯ & -53.29325 & -64.14916 & -59.35917 & -52.00746 & -48.50582 & -46.58454 & -45.52232 & -44.86725 & -44.34779 & -43.90774\\\\\n\t 27-07-20 04:56:02 & LWF011 & 91 & 401 & 368 & 606 & 205 & 36 & N & 1 & ⋯ & -43.92692 & -44.70184 & -45.77076 & -48.42729 & -55.51452 & -60.54639 & -52.58581 & -52.26430 & -55.79908 & -52.76772\\\\\n\t 27-07-20 04:56:02 & LWF011 & 91 & 401 & 368 & 606 & 205 & 36 & N & 1 & ⋯ & -44.28593 & -46.69162 & -50.69510 & -55.45536 & -68.15515 & -54.30320 & -46.71167 & -43.84403 & -43.76686 & -46.32839\\\\\n\t 27-07-20 04:56:02 & LWF011 & 91 & 401 & 368 & 606 & 205 & 36 & N & 1 & ⋯ & -52.66342 & -50.79109 & -48.49573 & -46.04709 & -44.14701 & -43.23274 & -43.47255 & -44.78951 & -46.65123 & -47.67354\\\\\n\t 27-07-20 04:56:02 & LWF011 & 91 & 401 & 368 & 606 & 205 & 36 & N & 1 & ⋯ & -44.29895 & -43.93138 & -43.87866 & -43.89192 & -43.74296 & -43.44356 & -43.27754 & -43.48801 & -44.12393 & -45.14765\\\\\n\t 27-07-20 04:56:02 & LWF011 & 91 & 401 & 368 & 606 & 205 & 36 & N & 1 & ⋯ & -50.03503 & -55.32350 & -61.72922 & -51.55087 & -46.74970 & -44.19216 & -42.79741 & -42.10364 & -41.88237 & -41.97945\\\\\n\\end{tabular}\n",
            "text/plain": [
              "      dateTimeSample    fishNum spCode totalLength forkLength weight girth\n",
              "1     26-07-20 04:56:02 LT009   81     521         474        1132   236  \n",
              "2     26-07-20 04:56:02 LT009   81     521         474        1132   236  \n",
              "3     26-07-20 04:56:02 LT009   81     521         474        1132   236  \n",
              "4     26-07-20 04:56:02 LT009   81     521         474        1132   236  \n",
              "5     26-07-20 04:56:02 LT009   81     521         474        1132   236  \n",
              "6     26-07-20 04:56:02 LT009   81     521         474        1132   236  \n",
              "7     26-07-20 04:56:02 LT009   81     521         474        1132   236  \n",
              "8     26-07-20 04:56:02 LT009   81     521         474        1132   236  \n",
              "9     26-07-20 04:56:02 LT009   81     521         474        1132   236  \n",
              "10    26-07-20 04:56:02 LT009   81     521         474        1132   236  \n",
              "11    26-07-20 04:56:02 LT009   81     521         474        1132   236  \n",
              "12    26-07-20 04:56:02 LT009   81     521         474        1132   236  \n",
              "13    26-07-20 04:56:02 LT009   81     521         474        1132   236  \n",
              "14    26-07-20 04:56:02 LT009   81     521         474        1132   236  \n",
              "15    26-07-20 04:56:02 LT009   81     521         474        1132   236  \n",
              "16    26-07-20 04:56:02 LT009   81     521         474        1132   236  \n",
              "17    26-07-20 04:56:02 LT009   81     521         474        1132   236  \n",
              "18    26-07-20 04:56:02 LT009   81     521         474        1132   236  \n",
              "19    26-07-20 04:56:02 LT009   81     521         474        1132   236  \n",
              "20    26-07-20 04:56:02 LT009   81     521         474        1132   236  \n",
              "21    26-07-20 04:56:02 LT009   81     521         474        1132   236  \n",
              "22    26-07-20 04:56:02 LT009   81     521         474        1132   236  \n",
              "23    26-07-20 04:56:02 LT009   81     521         474        1132   236  \n",
              "24    26-07-20 04:56:02 LT009   81     521         474        1132   236  \n",
              "25    26-07-20 04:56:02 LT009   81     521         474        1132   236  \n",
              "26    26-07-20 04:56:02 LT009   81     521         474        1132   236  \n",
              "27    26-07-20 04:56:02 LT009   81     521         474        1132   236  \n",
              "28    26-07-20 04:56:02 LT009   81     521         474        1132   236  \n",
              "29    26-07-20 04:56:02 LT009   81     521         474        1132   236  \n",
              "30    26-07-20 04:56:02 LT009   81     521         474        1132   236  \n",
              "⋮     ⋮                 ⋮       ⋮      ⋮           ⋮          ⋮      ⋮    \n",
              "45222 27-07-20 04:56:02 LWF011  91     401         368        606    205  \n",
              "45223 27-07-20 04:56:02 LWF011  91     401         368        606    205  \n",
              "45224 27-07-20 04:56:02 LWF011  91     401         368        606    205  \n",
              "45225 27-07-20 04:56:02 LWF011  91     401         368        606    205  \n",
              "45226 27-07-20 04:56:02 LWF011  91     401         368        606    205  \n",
              "45227 27-07-20 04:56:02 LWF011  91     401         368        606    205  \n",
              "45228 27-07-20 04:56:02 LWF011  91     401         368        606    205  \n",
              "45229 27-07-20 04:56:02 LWF011  91     401         368        606    205  \n",
              "45230 27-07-20 04:56:02 LWF011  91     401         368        606    205  \n",
              "45231 27-07-20 04:56:02 LWF011  91     401         368        606    205  \n",
              "45232 27-07-20 04:56:02 LWF011  91     401         368        606    205  \n",
              "45233 27-07-20 04:56:02 LWF011  91     401         368        606    205  \n",
              "45234 27-07-20 04:56:02 LWF011  91     401         368        606    205  \n",
              "45235 27-07-20 04:56:02 LWF011  91     401         368        606    205  \n",
              "45236 27-07-20 04:56:02 LWF011  91     401         368        606    205  \n",
              "45237 27-07-20 04:56:02 LWF011  91     401         368        606    205  \n",
              "45238 27-07-20 04:56:02 LWF011  91     401         368        606    205  \n",
              "45239 27-07-20 04:56:02 LWF011  91     401         368        606    205  \n",
              "45240 27-07-20 04:56:02 LWF011  91     401         368        606    205  \n",
              "45241 27-07-20 04:56:02 LWF011  91     401         368        606    205  \n",
              "45242 27-07-20 04:56:02 LWF011  91     401         368        606    205  \n",
              "45243 27-07-20 04:56:02 LWF011  91     401         368        606    205  \n",
              "45244 27-07-20 04:56:02 LWF011  91     401         368        606    205  \n",
              "45245 27-07-20 04:56:02 LWF011  91     401         368        606    205  \n",
              "45246 27-07-20 04:56:02 LWF011  91     401         368        606    205  \n",
              "45247 27-07-20 04:56:02 LWF011  91     401         368        606    205  \n",
              "45248 27-07-20 04:56:02 LWF011  91     401         368        606    205  \n",
              "45249 27-07-20 04:56:02 LWF011  91     401         368        606    205  \n",
              "45250 27-07-20 04:56:02 LWF011  91     401         368        606    205  \n",
              "45251 27-07-20 04:56:02 LWF011  91     401         368        606    205  \n",
              "      dorsoLatHeight clipTag sex ⋯ F165.5    F166      F166.5    F167     \n",
              "1     49             N       2   ⋯ -33.31732 -33.48272 -33.98954 -34.71069\n",
              "2     49             N       2   ⋯ -47.93437 -55.27752 -49.75377 -43.36868\n",
              "3     49             N       2   ⋯ -43.51204 -44.28880 -45.48378 -46.41323\n",
              "4     49             N       2   ⋯ -43.60107 -42.57205 -42.36388 -42.79280\n",
              "5     49             N       2   ⋯ -37.35113 -36.52720 -36.12024 -36.28219\n",
              "6     49             N       2   ⋯ -33.32777 -32.72380 -32.66965 -32.60390\n",
              "7     49             N       2   ⋯ -43.06297 -44.89117 -46.83981 -48.26073\n",
              "8     49             N       2   ⋯ -42.60981 -44.27151 -48.55686 -57.49871\n",
              "9     49             N       2   ⋯ -42.17858 -46.13763 -49.22816 -42.07251\n",
              "10    49             N       2   ⋯ -33.40930 -35.03419 -39.22272 -50.58940\n",
              "11    49             N       2   ⋯ -37.48830 -37.38090 -38.33965 -38.93740\n",
              "12    49             N       2   ⋯ -40.82712 -39.16390 -39.34050 -42.06967\n",
              "13    49             N       2   ⋯ -45.94084 -48.35860 -42.50654 -40.08557\n",
              "14    49             N       2   ⋯ -34.73834 -34.80306 -34.92956 -35.26899\n",
              "15    49             N       2   ⋯ -45.02204 -44.22327 -43.53907 -43.71742\n",
              "16    49             N       2   ⋯ -47.84968 -47.64415 -45.39721 -42.91607\n",
              "17    49             N       2   ⋯ -43.36863 -49.02757 -51.00130 -43.50068\n",
              "18    49             N       2   ⋯ -43.28206 -40.19327 -38.75463 -39.16434\n",
              "19    49             N       2   ⋯ -41.49833 -38.93479 -36.71503 -35.51522\n",
              "20    49             N       2   ⋯ -40.71700 -41.97521 -43.99316 -46.80281\n",
              "21    49             N       2   ⋯ -40.77980 -42.57289 -45.94466 -51.71959\n",
              "22    49             N       2   ⋯ -42.99342 -45.53120 -48.72001 -51.30032\n",
              "23    49             N       2   ⋯ -61.08510 -59.41102 -50.89662 -46.51935\n",
              "24    49             N       2   ⋯ -50.56471 -50.04467 -45.18904 -40.67069\n",
              "25    49             N       2   ⋯ -43.80438 -45.63071 -50.76195 -58.86461\n",
              "26    49             N       2   ⋯ -41.20601 -43.93129 -45.71867 -46.26055\n",
              "27    49             N       2   ⋯ -35.58769 -38.20660 -40.99305 -41.17246\n",
              "28    49             N       2   ⋯ -51.04813 -54.10972 -57.72342 -55.56210\n",
              "29    49             N       2   ⋯ -32.38888 -32.52763 -33.69275 -35.89065\n",
              "30    49             N       2   ⋯ -33.47635 -34.19573 -35.92943 -39.06683\n",
              "⋮     ⋮              ⋮       ⋮   ⋱ ⋮         ⋮         ⋮         ⋮        \n",
              "45222 36             N       1   ⋯ -48.70898 -48.18153 -49.28216 -51.92945\n",
              "45223 36             N       1   ⋯ -41.33352 -41.28966 -41.53101 -42.38319\n",
              "45224 36             N       1   ⋯ -45.01344 -46.07166 -47.55810 -48.71487\n",
              "45225 36             N       1   ⋯ -46.32720 -45.16411 -45.02556 -45.39152\n",
              "45226 36             N       1   ⋯ -42.99607 -43.14076 -44.36826 -47.11334\n",
              "45227 36             N       1   ⋯ -61.30158 -61.31779 -61.81294 -62.05056\n",
              "45228 36             N       1   ⋯ -46.34153 -51.21696 -54.21422 -56.26321\n",
              "45229 36             N       1   ⋯ -58.39646 -56.46928 -52.36735 -49.64062\n",
              "45230 36             N       1   ⋯ -46.04097 -45.89138 -45.37635 -45.30562\n",
              "45231 36             N       1   ⋯ -47.53708 -50.56851 -54.44755 -59.14812\n",
              "45232 36             N       1   ⋯ -36.13680 -35.25386 -34.95908 -35.22185\n",
              "45233 36             N       1   ⋯ -46.82642 -46.26022 -45.71639 -45.97129\n",
              "45234 36             N       1   ⋯ -51.78438 -50.91399 -50.42424 -49.86862\n",
              "45235 36             N       1   ⋯ -41.65739 -41.34903 -40.99461 -40.71869\n",
              "45236 36             N       1   ⋯ -45.89528 -45.03942 -44.21180 -43.22471\n",
              "45237 36             N       1   ⋯ -37.07319 -37.70726 -38.52117 -39.59074\n",
              "45238 36             N       1   ⋯ -44.87892 -43.61847 -42.48158 -42.00684\n",
              "45239 36             N       1   ⋯ -45.29234 -48.47796 -51.83950 -52.56172\n",
              "45240 36             N       1   ⋯ -50.15212 -50.10622 -49.88214 -49.64264\n",
              "45241 36             N       1   ⋯ -41.44012 -42.78506 -44.21013 -45.59320\n",
              "45242 36             N       1   ⋯ -41.28393 -41.40044 -41.59105 -41.74543\n",
              "45243 36             N       1   ⋯ -38.96040 -38.52649 -38.52677 -38.87696\n",
              "45244 36             N       1   ⋯ -41.84157 -42.91660 -44.88909 -49.27068\n",
              "45245 36             N       1   ⋯ -44.93021 -47.11844 -48.44419 -49.34060\n",
              "45246 36             N       1   ⋯ -53.29325 -64.14916 -59.35917 -52.00746\n",
              "45247 36             N       1   ⋯ -43.92692 -44.70184 -45.77076 -48.42729\n",
              "45248 36             N       1   ⋯ -44.28593 -46.69162 -50.69510 -55.45536\n",
              "45249 36             N       1   ⋯ -52.66342 -50.79109 -48.49573 -46.04709\n",
              "45250 36             N       1   ⋯ -44.29895 -43.93138 -43.87866 -43.89192\n",
              "45251 36             N       1   ⋯ -50.03503 -55.32350 -61.72922 -51.55087\n",
              "      F167.5    F168      F168.5    F169      F169.5    F170     \n",
              "1     -35.47591 -36.11846 -36.57586 -36.90389 -37.16360 -37.37286\n",
              "2     -39.93659 -38.22149 -37.75096 -38.21294 -39.35730 -41.04031\n",
              "3     -46.20443 -46.10777 -47.79635 -51.34248 -52.21717 -51.22738\n",
              "4     -43.24235 -43.47555 -44.25610 -46.26738 -49.37243 -51.95134\n",
              "5     -36.87755 -37.58748 -38.33421 -38.65026 -37.10683 -34.48625\n",
              "6     -32.43916 -32.96681 -35.13315 -39.78136 -46.17297 -44.42698\n",
              "7     -48.73601 -46.82269 -44.71505 -44.26200 -45.54696 -48.31731\n",
              "8     -48.56347 -43.80375 -41.95260 -41.66501 -42.73266 -45.96766\n",
              "9     -35.43637 -31.48083 -29.72450 -29.86794 -31.79124 -35.66754\n",
              "10    -48.95248 -44.55936 -43.09744 -38.97563 -36.36449 -36.25474\n",
              "11    -38.37023 -38.57920 -41.29389 -48.62900 -59.26864 -48.45504\n",
              "12    -46.01858 -42.72443 -40.43491 -41.26567 -44.69268 -49.62661\n",
              "13    -40.65750 -44.39982 -52.63827 -51.22607 -45.69048 -42.75466\n",
              "14    -35.99378 -37.25409 -39.10377 -41.40001 -43.61299 -44.75685\n",
              "15    -44.82518 -45.79078 -45.14582 -43.86649 -43.06865 -42.96524\n",
              "16    -41.18368 -40.45297 -40.78824 -42.15647 -43.89960 -43.50131\n",
              "17    -40.13222 -39.23533 -40.16683 -42.60740 -46.35735 -50.48304\n",
              "18    -41.86226 -48.03016 -55.83986 -47.84620 -42.62430 -39.39771\n",
              "19    -35.52174 -36.79964 -39.13077 -41.47527 -41.93837 -40.77283\n",
              "20    -49.64634 -50.66090 -49.58050 -47.74796 -46.23847 -45.59554\n",
              "21    -61.85248 -66.50160 -54.65889 -50.25427 -49.39068 -51.98858\n",
              "22    -52.07093 -51.34704 -52.08243 -54.46983 -49.30424 -44.80899\n",
              "23    -43.78225 -42.24522 -41.92164 -42.64552 -43.62727 -43.91402\n",
              "24    -38.02260 -37.25286 -38.36555 -41.52676 -47.50300 -52.50546\n",
              "25    -53.07755 -52.65618 -56.87987 -50.52016 -45.43599 -43.30978\n",
              "26    -47.50062 -49.61436 -49.43361 -45.53431 -41.25677 -38.06184\n",
              "27    -39.22179 -37.83049 -37.61936 -38.63516 -41.03061 -45.36363\n",
              "28    -61.60413 -53.25058 -45.30345 -43.03918 -44.66583 -50.07589\n",
              "29    -38.62021 -40.48688 -40.15998 -38.15883 -36.41668 -35.78606\n",
              "30    -43.71749 -46.77645 -45.83566 -44.38123 -42.83615 -41.94712\n",
              "⋮     ⋮         ⋮         ⋮         ⋮         ⋮         ⋮        \n",
              "45222 -54.65982 -55.04103 -56.17844 -58.32728 -54.87349 -51.77755\n",
              "45223 -44.22744 -47.15449 -50.15023 -52.64604 -58.77422 -58.57411\n",
              "45224 -48.78842 -47.97762 -47.41073 -47.94481 -49.35604 -48.97886\n",
              "45225 -45.32711 -44.79413 -44.94193 -46.57295 -50.18454 -56.91660\n",
              "45226 -50.65972 -49.99760 -48.05072 -48.08948 -49.77746 -51.27790\n",
              "45227 -53.76549 -49.31369 -47.98368 -49.03649 -51.10230 -50.26113\n",
              "45228 -66.61982 -51.73407 -46.53827 -45.34927 -47.12738 -52.36392\n",
              "45229 -47.83692 -46.21741 -44.83451 -44.31746 -45.07098 -47.30714\n",
              "45230 -46.60878 -50.18586 -55.06238 -54.23033 -53.72378 -53.85827\n",
              "45231 -62.71800 -61.60138 -59.68939 -58.96216 -59.41109 -60.86140\n",
              "45232 -35.92265 -36.80611 -37.57560 -38.18476 -38.91981 -40.20007\n",
              "45233 -47.79646 -52.26271 -62.52636 -70.85537 -66.18828 -60.47470\n",
              "45234 -48.57734 -46.41837 -44.05573 -42.26963 -41.41941 -41.55896\n",
              "45235 -40.62284 -40.80650 -41.39084 -42.50835 -44.29501 -46.92706\n",
              "45236 -42.08122 -41.01720 -40.29153 -40.01422 -40.15992 -40.64670\n",
              "45237 -41.00043 -42.77386 -44.82456 -47.03067 -49.41549 -52.18875\n",
              "45238 -42.66844 -45.04006 -50.27210 -67.14444 -54.37942 -47.99813\n",
              "45239 -50.01495 -47.62679 -46.61821 -46.78790 -47.55459 -48.84030\n",
              "45240 -49.48400 -49.39146 -49.37342 -49.61325 -50.40142 -52.03791\n",
              "45241 -46.87438 -48.17263 -49.73279 -51.56531 -53.03444 -53.27795\n",
              "45242 -41.81408 -41.67671 -41.41443 -41.41605 -41.97828 -43.13047\n",
              "45243 -39.43342 -40.02942 -40.66632 -41.49672 -42.55469 -43.65075\n",
              "45244 -59.53688 -54.99502 -52.37829 -55.95875 -58.59798 -50.35633\n",
              "45245 -51.27193 -56.97424 -59.16565 -51.65741 -49.38901 -50.26279\n",
              "45246 -48.50582 -46.58454 -45.52232 -44.86725 -44.34779 -43.90774\n",
              "45247 -55.51452 -60.54639 -52.58581 -52.26430 -55.79908 -52.76772\n",
              "45248 -68.15515 -54.30320 -46.71167 -43.84403 -43.76686 -46.32839\n",
              "45249 -44.14701 -43.23274 -43.47255 -44.78951 -46.65123 -47.67354\n",
              "45250 -43.74296 -43.44356 -43.27754 -43.48801 -44.12393 -45.14765\n",
              "45251 -46.74970 -44.19216 -42.79741 -42.10364 -41.88237 -41.97945"
            ]
          },
          "metadata": {}
        },
        {
          "output_type": "stream",
          "name": "stdout",
          "text": [
            "  [1] \"dateTimeSample\"                \"fishNum\"                      \n",
            "  [3] \"spCode\"                        \"totalLength\"                  \n",
            "  [5] \"forkLength\"                    \"weight\"                       \n",
            "  [7] \"girth\"                         \"dorsoLatHeight\"               \n",
            "  [9] \"clipTag\"                       \"sex\"                          \n",
            " [11] \"mat\"                           \"airbladderTotalLength\"        \n",
            " [13] \"airBladderWidth\"               \"Region_name\"                  \n",
            " [15] \"FishTrack\"                     \"MaxTSdiff\"                    \n",
            " [17] \"Ping_time\"                     \"deltaRange\"                   \n",
            " [19] \"deltaMinAng\"                   \"deltaMajAng\"                  \n",
            " [21] \"aspectAngle\"                   \"Target_range\"                 \n",
            " [23] \"Angle_minor_axis\"              \"Angle_major_axis\"             \n",
            " [25] \"Distance_minor_axis\"           \"Distance_major_axis\"          \n",
            " [27] \"StandDev_Angles_Minor_Axis\"    \"StandDev_Angles_Major_Axis\"   \n",
            " [29] \"Target_true_depth\"             \"pingNumber\"                   \n",
            " [31] \"Ping_S\"                        \"Ping_E\"                       \n",
            " [33] \"Num_targets\"                   \"TS_mean\"                      \n",
            " [35] \"Target_range_mean\"             \"Speed_4D_mean_unsmoothed\"     \n",
            " [37] \"Fish_track_change_in_range\"    \"Time_in_beam\"                 \n",
            " [39] \"Distance_3D_unsmoothed\"        \"Thickness_mean\"               \n",
            " [41] \"Exclude_below_line_range_mean\" \"Target_depth_mean\"            \n",
            " [43] \"Target_depth_max\"              \"Target_depth_min\"             \n",
            " [45] \"Fish_track_change_in_depth\"    \"Region_bottom_altitude_min\"   \n",
            " [47] \"Region_bottom_altitude_max\"    \"Region_bottom_altitude_mean\"  \n",
            " [49] \"Region_top_altitude_min\"       \"Region_top_altitude_max\"      \n",
            " [51] \"Region_top_altitude_mean\"      \"F45\"                          \n",
            " [53] \"F45.5\"                         \"F46\"                          \n",
            " [55] \"F46.5\"                         \"F47\"                          \n",
            " [57] \"F47.5\"                         \"F48\"                          \n",
            " [59] \"F48.5\"                         \"F49\"                          \n",
            " [61] \"F49.5\"                         \"F50\"                          \n",
            " [63] \"F50.5\"                         \"F51\"                          \n",
            " [65] \"F51.5\"                         \"F52\"                          \n",
            " [67] \"F52.5\"                         \"F53\"                          \n",
            " [69] \"F53.5\"                         \"F54\"                          \n",
            " [71] \"F54.5\"                         \"F55\"                          \n",
            " [73] \"F55.5\"                         \"F56\"                          \n",
            " [75] \"F56.5\"                         \"F57\"                          \n",
            " [77] \"F57.5\"                         \"F58\"                          \n",
            " [79] \"F58.5\"                         \"F59\"                          \n",
            " [81] \"F59.5\"                         \"F60\"                          \n",
            " [83] \"F60.5\"                         \"F61\"                          \n",
            " [85] \"F61.5\"                         \"F62\"                          \n",
            " [87] \"F62.5\"                         \"F63\"                          \n",
            " [89] \"F63.5\"                         \"F64\"                          \n",
            " [91] \"F64.5\"                         \"F65\"                          \n",
            " [93] \"F65.5\"                         \"F66\"                          \n",
            " [95] \"F66.5\"                         \"F67\"                          \n",
            " [97] \"F67.5\"                         \"F68\"                          \n",
            " [99] \"F68.5\"                         \"F69\"                          \n",
            "[101] \"F69.5\"                         \"F70\"                          \n",
            "[103] \"F70.5\"                         \"F71\"                          \n",
            "[105] \"F71.5\"                         \"F72\"                          \n",
            "[107] \"F72.5\"                         \"F73\"                          \n",
            "[109] \"F73.5\"                         \"F74\"                          \n",
            "[111] \"F74.5\"                         \"F75\"                          \n",
            "[113] \"F75.5\"                         \"F76\"                          \n",
            "[115] \"F76.5\"                         \"F77\"                          \n",
            "[117] \"F77.5\"                         \"F78\"                          \n",
            "[119] \"F78.5\"                         \"F79\"                          \n",
            "[121] \"F79.5\"                         \"F80\"                          \n",
            "[123] \"F80.5\"                         \"F81\"                          \n",
            "[125] \"F81.5\"                         \"F82\"                          \n",
            "[127] \"F82.5\"                         \"F83\"                          \n",
            "[129] \"F83.5\"                         \"F84\"                          \n",
            "[131] \"F84.5\"                         \"F85\"                          \n",
            "[133] \"F85.5\"                         \"F86\"                          \n",
            "[135] \"F86.5\"                         \"F87\"                          \n",
            "[137] \"F87.5\"                         \"F88\"                          \n",
            "[139] \"F88.5\"                         \"F89\"                          \n",
            "[141] \"F89.5\"                         \"F90\"                          \n",
            "[143] \"F90.5\"                         \"F91\"                          \n",
            "[145] \"F91.5\"                         \"F92\"                          \n",
            "[147] \"F92.5\"                         \"F93\"                          \n",
            "[149] \"F93.5\"                         \"F94\"                          \n",
            "[151] \"F94.5\"                         \"F95\"                          \n",
            "[153] \"F95.5\"                         \"F96\"                          \n",
            "[155] \"F96.5\"                         \"F97\"                          \n",
            "[157] \"F97.5\"                         \"F98\"                          \n",
            "[159] \"F98.5\"                         \"F99\"                          \n",
            "[161] \"F99.5\"                         \"F100\"                         \n",
            "[163] \"F100.5\"                        \"F101\"                         \n",
            "[165] \"F101.5\"                        \"F102\"                         \n",
            "[167] \"F102.5\"                        \"F103\"                         \n",
            "[169] \"F103.5\"                        \"F104\"                         \n",
            "[171] \"F104.5\"                        \"F105\"                         \n",
            "[173] \"F105.5\"                        \"F106\"                         \n",
            "[175] \"F106.5\"                        \"F107\"                         \n",
            "[177] \"F107.5\"                        \"F108\"                         \n",
            "[179] \"F108.5\"                        \"F109\"                         \n",
            "[181] \"F109.5\"                        \"F110\"                         \n",
            "[183] \"F110.5\"                        \"F111\"                         \n",
            "[185] \"F111.5\"                        \"F112\"                         \n",
            "[187] \"F112.5\"                        \"F113\"                         \n",
            "[189] \"F113.5\"                        \"F114\"                         \n",
            "[191] \"F114.5\"                        \"F115\"                         \n",
            "[193] \"F115.5\"                        \"F116\"                         \n",
            "[195] \"F116.5\"                        \"F117\"                         \n",
            "[197] \"F117.5\"                        \"F118\"                         \n",
            "[199] \"F118.5\"                        \"F119\"                         \n",
            "[201] \"F119.5\"                        \"F120\"                         \n",
            "[203] \"F120.5\"                        \"F121\"                         \n",
            "[205] \"F121.5\"                        \"F122\"                         \n",
            "[207] \"F122.5\"                        \"F123\"                         \n",
            "[209] \"F123.5\"                        \"F124\"                         \n",
            "[211] \"F124.5\"                        \"F125\"                         \n",
            "[213] \"F125.5\"                        \"F126\"                         \n",
            "[215] \"F126.5\"                        \"F127\"                         \n",
            "[217] \"F127.5\"                        \"F128\"                         \n",
            "[219] \"F128.5\"                        \"F129\"                         \n",
            "[221] \"F129.5\"                        \"F130\"                         \n",
            "[223] \"F130.5\"                        \"F131\"                         \n",
            "[225] \"F131.5\"                        \"F132\"                         \n",
            "[227] \"F132.5\"                        \"F133\"                         \n",
            "[229] \"F133.5\"                        \"F134\"                         \n",
            "[231] \"F134.5\"                        \"F135\"                         \n",
            "[233] \"F135.5\"                        \"F136\"                         \n",
            "[235] \"F136.5\"                        \"F137\"                         \n",
            "[237] \"F137.5\"                        \"F138\"                         \n",
            "[239] \"F138.5\"                        \"F139\"                         \n",
            "[241] \"F139.5\"                        \"F140\"                         \n",
            "[243] \"F140.5\"                        \"F141\"                         \n",
            "[245] \"F141.5\"                        \"F142\"                         \n",
            "[247] \"F142.5\"                        \"F143\"                         \n",
            "[249] \"F143.5\"                        \"F144\"                         \n",
            "[251] \"F144.5\"                        \"F145\"                         \n",
            "[253] \"F145.5\"                        \"F146\"                         \n",
            "[255] \"F146.5\"                        \"F147\"                         \n",
            "[257] \"F147.5\"                        \"F148\"                         \n",
            "[259] \"F148.5\"                        \"F149\"                         \n",
            "[261] \"F149.5\"                        \"F150\"                         \n",
            "[263] \"F150.5\"                        \"F151\"                         \n",
            "[265] \"F151.5\"                        \"F152\"                         \n",
            "[267] \"F152.5\"                        \"F153\"                         \n",
            "[269] \"F153.5\"                        \"F154\"                         \n",
            "[271] \"F154.5\"                        \"F155\"                         \n",
            "[273] \"F155.5\"                        \"F156\"                         \n",
            "[275] \"F156.5\"                        \"F157\"                         \n",
            "[277] \"F157.5\"                        \"F158\"                         \n",
            "[279] \"F158.5\"                        \"F159\"                         \n",
            "[281] \"F159.5\"                        \"F160\"                         \n",
            "[283] \"F160.5\"                        \"F161\"                         \n",
            "[285] \"F161.5\"                        \"F162\"                         \n",
            "[287] \"F162.5\"                        \"F163\"                         \n",
            "[289] \"F163.5\"                        \"F164\"                         \n",
            "[291] \"F164.5\"                        \"F165\"                         \n",
            "[293] \"F165.5\"                        \"F166\"                         \n",
            "[295] \"F166.5\"                        \"F167\"                         \n",
            "[297] \"F167.5\"                        \"F168\"                         \n",
            "[299] \"F168.5\"                        \"F169\"                         \n",
            "[301] \"F169.5\"                        \"F170\"                         \n"
          ]
        }
      ]
    },
    {
      "cell_type": "code",
      "source": [
        "# labels for each species\n",
        "y <- as.factor(processed_data_no200$spCode)"
      ],
      "metadata": {
        "id": "06_22K1txTza"
      },
      "execution_count": 50,
      "outputs": []
    },
    {
      "cell_type": "code",
      "source": [
        "# TS_mean as X\n",
        "X <- processed_data_no200$TS_mean"
      ],
      "metadata": {
        "id": "kxOFtZypxiSC"
      },
      "execution_count": 53,
      "outputs": []
    },
    {
      "cell_type": "code",
      "source": [
        "p1_processed_data_no200 <- processed_data_no200 %>%\n",
        "  mutate(Ping_time_POSIXct = as.POSIXct(Ping_time, format = \"%H:%M:%S\") - (60 * 60 * 4)) %>%\n",
        "  filter(Ping_time_POSIXct - lead(Ping_time_POSIXct) < 2) %>%\n",
        "  group_by(fishNum) %>%\n",
        "  mutate(TS_mean_2sec = mean(TS_mean, na.rm = TRUE)) %>%\n",
        "  ungroup()"
      ],
      "metadata": {
        "id": "TdBz4RO_zGmn"
      },
      "execution_count": 54,
      "outputs": []
    },
    {
      "cell_type": "code",
      "source": [
        "# LWT\n",
        "p1_processed_data_no200_LWT <- p1_processed_data_no200 %>%\n",
        "  filter(spCode == 91)\n",
        "\n",
        "# LT\n",
        "p1_processed_data_no200_LT <- p1_processed_data_no200 %>%\n",
        "  filter(spCode == 81)"
      ],
      "metadata": {
        "id": "z91-P6VjzmBU"
      },
      "execution_count": 56,
      "outputs": []
    },
    {
      "cell_type": "code",
      "source": [
        "# Install the required packages\n",
        "install.packages(\"keras\")\n",
        "install.packages(\"tensorflow\")\n",
        "\n",
        "# Load the installed packages\n",
        "library(keras)\n",
        "library(tensorflow)"
      ],
      "metadata": {
        "colab": {
          "base_uri": "https://localhost:8080/"
        },
        "id": "SHgcHgY60qYr",
        "outputId": "9096744c-c73f-4c2e-831c-bae6b576dc66"
      },
      "execution_count": 64,
      "outputs": [
        {
          "output_type": "stream",
          "name": "stderr",
          "text": [
            "Installing package into ‘/usr/local/lib/R/site-library’\n",
            "(as ‘lib’ is unspecified)\n",
            "\n",
            "also installing the dependencies ‘RcppTOML’, ‘tfautograph’, ‘reticulate’, ‘tensorflow’, ‘tfruns’\n",
            "\n",
            "\n",
            "Installing package into ‘/usr/local/lib/R/site-library’\n",
            "(as ‘lib’ is unspecified)\n",
            "\n"
          ]
        }
      ]
    },
    {
      "cell_type": "markdown",
      "source": [
        "RNN Implementation"
      ],
      "metadata": {
        "id": "q9JhZ2Xt3MKk"
      }
    },
    {
      "cell_type": "code",
      "source": [
        "# prompt: create (x, y) for the input to RNN, x should be the TS_mean_2sec, y should be the species, the RNN is to conduct binary classification, also add the implementation of RNN\n",
        "\n",
        "# Reshape the input data\n",
        "input_data <- array_reshape(p1_processed_data_no200_LWT$TS_mean_2sec, c(dim(p1_processed_data_no200_LWT$TS_mean_2sec)[1], 1, 1))\n",
        "\n",
        "# Define the model\n",
        "rnn <- keras_model_sequential()\n",
        "rnn <- rnn %>%\n",
        "  layer_lstm(units = 128, return_sequences = TRUE, input_shape = c(1, 1)) %>%\n",
        "  layer_lstm(units = 128) %>%\n",
        "  layer_dense(units = 1, activation = 'sigmoid')\n",
        "\n",
        "# Compile the model\n",
        "rnn %>%\n",
        "  compile(optimizer = 'adam',\n",
        "          loss = 'binary_crossentropy',\n",
        "          metrics = c('accuracy'))\n",
        "\n",
        "# Train the model\n",
        "rnn %>%\n",
        "  fit(x = input_data,\n",
        "      y = p1_processed_data_no200_LWT$spCode,\n",
        "      epochs = 100,\n",
        "      batch_size = 32)\n",
        "\n",
        "# Evaluate the model\n",
        "rnn %>%\n",
        "  evaluate(x = input_data,\n",
        "           y = p1_processed_data_no200_LWT$spCode)\n",
        "\n"
      ],
      "metadata": {
        "id": "ZE_N6i5Ezpyj"
      },
      "execution_count": null,
      "outputs": []
    },
    {
      "cell_type": "markdown",
      "source": [
        "### Previous methods to calculate time difference"
      ],
      "metadata": {
        "id": "alHNGwsJ3E5s"
      }
    },
    {
      "cell_type": "code",
      "source": [
        "LT <- processed_data[processed_data$spCode == 81, ]\n",
        "\n",
        "# Function to convert time string to POSIXct\n",
        "convert_to_datetime <- function(time_str) {\n",
        "  return(as.POSIXct(time_str, format = \"%H:%M:%OS\"))\n",
        "}\n",
        "\n",
        "# Function to calculate the time difference for every 5 rows\n",
        "calculate_time_difference_for_five_rows <- function(data) {\n",
        "  time_differences <- numeric(0)\n",
        "\n",
        "  for (i in seq(1, nrow(data), by = 5)) {\n",
        "    if ((i + 4) <= nrow(data)) {\n",
        "      time_str1 <- data$Ping_time[i]\n",
        "      time_str2 <- data$Ping_time[i + 4]\n",
        "\n",
        "      time1 <- convert_to_datetime(time_str1)\n",
        "      time2 <- convert_to_datetime(time_str2)\n",
        "\n",
        "      time_difference <- as.numeric(difftime(time1, time2, units = \"secs\"))\n",
        "      time_differences <- c(time_differences, time_difference)\n",
        "    }\n",
        "  }\n",
        "\n",
        "  return(time_differences)\n",
        "}\n",
        "\n",
        "# Calculate time differences for every 5 rows\n",
        "time_differences <- calculate_time_difference_for_five_rows(LT)\n",
        "\n",
        "groups <- cumsum(abs(time_differences) >= 5)\n",
        "\n",
        "\n",
        "# Run-length encoding to calculate the length of each region\n",
        "lengths_of_regions <- rle(groups)$lengths\n",
        "\n",
        "# Print the lengths of each region\n",
        "print(lengths_of_regions)\n",
        "\n",
        "# choose 5 ping for each region, doesn't have to be same time interval"
      ],
      "metadata": {
        "id": "2JjK2M4sP6R2"
      },
      "execution_count": null,
      "outputs": []
    },
    {
      "cell_type": "code",
      "source": [
        "LWT <- processed_data[processed_data$spCode == 91, ]\n",
        "\n",
        "# Function to convert time string to POSIXct\n",
        "convert_to_datetime <- function(time_str) {\n",
        "  return(as.POSIXct(time_str, format = \"%H:%M:%OS\"))\n",
        "}\n",
        "\n",
        "# Function to calculate the time difference for every 5 rows\n",
        "calculate_time_difference_for_five_rows <- function(data) {\n",
        "  time_differences <- numeric(0)\n",
        "\n",
        "  for (i in seq(1, nrow(data), by = 5)) {\n",
        "    if ((i + 4) <= nrow(data)) {\n",
        "      time_str1 <- data$Ping_time[i]\n",
        "      time_str2 <- data$Ping_time[i + 4]\n",
        "\n",
        "      time1 <- convert_to_datetime(time_str1)\n",
        "      time2 <- convert_to_datetime(time_str2)\n",
        "\n",
        "      time_difference <- as.numeric(difftime(time1, time2, units = \"secs\"))\n",
        "      time_differences <- c(time_differences, time_difference)\n",
        "    }\n",
        "  }\n",
        "\n",
        "  return(time_differences)\n",
        "}\n",
        "\n",
        "# Calculate time differences for every 5 rows\n",
        "time_differences <- calculate_time_difference_for_five_rows(LT)\n",
        "\n",
        "groups <- cumsum(abs(time_differences) >= 5)\n",
        "\n",
        "\n",
        "# Run-length encoding to calculate the length of each region\n",
        "lengths_of_regions <- rle(groups)$lengths\n",
        "\n",
        "# Print the lengths of each region\n",
        "print(lengths_of_regions)"
      ],
      "metadata": {
        "id": "dYNX6aiwYuBH"
      },
      "execution_count": null,
      "outputs": []
    },
    {
      "cell_type": "code",
      "source": [
        "Ping_time_number <- processed_data[, c(\"Ping_time\", \"pingNumber\")]\n",
        "\n",
        "# Function to convert time string to POSIXct\n",
        "convert_to_datetime <- function(time_str) {\n",
        "  return(as.POSIXct(time_str, format = \"%H:%M:%OS\"))\n",
        "}\n",
        "\n",
        "# I wanna calculate the time difference for every 5 pingNumber\n",
        "calculate_time_difference <- function(time_str1, time_str2) {\n",
        "\n",
        "  time1 <- convert_to_datetime(time_str1)\n",
        "  time2 <- convert_to_datetime(time_str2)\n",
        "\n",
        "\n",
        "  time_difference <- abs(difftime(time1, time2))\n",
        "\n",
        "  return(time_difference)\n",
        "}\n",
        "\n",
        "print(paste(\"Time difference:\", as.numeric(time_difference), \"seconds\"))\n"
      ],
      "metadata": {
        "id": "gUjt9850OtKb"
      },
      "execution_count": null,
      "outputs": []
    }
  ]
}